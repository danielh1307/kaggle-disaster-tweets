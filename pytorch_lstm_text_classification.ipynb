{
 "cells": [
  {
   "cell_type": "markdown",
   "metadata": {
    "collapsed": false,
    "pycharm": {
     "name": "#%% md\n"
    }
   },
   "source": [
    "# NLP with disaster tweets - A case for LSTM\n",
    "In this notebook we try to predict which Tweets are about real disasters and which ones are not. We use the data from [https://www.kaggle.com/competitions/nlp-getting-started](https://www.kaggle.com/competitions/nlp-getting-started) and implement a simple solution based on LSTM"
   ]
  },
  {
   "cell_type": "markdown",
   "metadata": {
    "collapsed": false,
    "pycharm": {
     "name": "#%% md\n"
    }
   },
   "source": []
  },
  {
   "cell_type": "code",
   "execution_count": 1,
   "metadata": {
    "execution": {
     "iopub.execute_input": "2022-03-05T22:25:22.852701Z",
     "iopub.status.busy": "2022-03-05T22:25:22.852431Z",
     "iopub.status.idle": "2022-03-05T22:25:22.858568Z",
     "shell.execute_reply": "2022-03-05T22:25:22.857468Z",
     "shell.execute_reply.started": "2022-03-05T22:25:22.852671Z"
    },
    "pycharm": {
     "name": "#%%\n"
    },
    "trusted": true,
    "ExecuteTime": {
     "end_time": "2024-02-19T20:51:11.583622200Z",
     "start_time": "2024-02-19T20:51:08.626374500Z"
    }
   },
   "outputs": [
    {
     "name": "stderr",
     "output_type": "stream",
     "text": [
      "[nltk_data] Downloading package stopwords to\n",
      "[nltk_data]     C:\\Users\\hammd\\AppData\\Roaming\\nltk_data...\n",
      "[nltk_data]   Package stopwords is already up-to-date!\n",
      "[nltk_data] Downloading package punkt to\n",
      "[nltk_data]     C:\\Users\\hammd\\AppData\\Roaming\\nltk_data...\n",
      "[nltk_data]   Package punkt is already up-to-date!\n"
     ]
    }
   ],
   "source": [
    "import math\n",
    "\n",
    "import torch\n",
    "import torch.nn as nn\n",
    "import torch.optim as optim\n",
    "import torch.nn.functional as F\n",
    "from sklearn.metrics import classification_report\n",
    "\n",
    "from torch.utils.data import Dataset\n",
    "from torch.utils.data import DataLoader\n",
    "\n",
    "import numpy as np\n",
    "import pandas as pd\n",
    "\n",
    "import string\n",
    "\n",
    "# For pre-processing, we use the simple nltk library. You might want to upgrade to SpaCy for better results\n",
    "import nltk\n",
    "nltk.download('stopwords')\n",
    "nltk.download('punkt')\n",
    "\n",
    "from nltk.corpus import stopwords\n",
    "\n",
    "from sklearn.model_selection import train_test_split\n",
    "import seaborn as sns\n",
    "\n",
    "from collections import defaultdict"
   ]
  },
  {
   "cell_type": "markdown",
   "metadata": {
    "collapsed": false,
    "pycharm": {
     "name": "#%% md\n"
    }
   },
   "source": [
    "# 1. Load Data\n",
    "Load data and reduce to the features we are interested in. Keep in mind that the target is a binary variable with 0 (no disaster) and 1 (disaster)\n"
   ]
  },
  {
   "cell_type": "code",
   "execution_count": 2,
   "metadata": {
    "collapsed": false,
    "pycharm": {
     "name": "#%%\n"
    },
    "ExecuteTime": {
     "end_time": "2024-02-19T20:51:16.615363700Z",
     "start_time": "2024-02-19T20:51:16.561366900Z"
    }
   },
   "outputs": [
    {
     "name": "stdout",
     "output_type": "stream",
     "text": [
      "(7613, 2)\n"
     ]
    },
    {
     "data": {
      "text/plain": "                                                   text  target\n0     Our Deeds are the Reason of this #earthquake M...       1\n1                Forest fire near La Ronge Sask. Canada       1\n2     All residents asked to 'shelter in place' are ...       1\n3     13,000 people receive #wildfires evacuation or...       1\n4     Just got sent this photo from Ruby #Alaska as ...       1\n...                                                 ...     ...\n7608  Two giant cranes holding a bridge collapse int...       1\n7609  @aria_ahrary @TheTawniest The out of control w...       1\n7610  M1.94 [01:04 UTC]?5km S of Volcano Hawaii. htt...       1\n7611  Police investigating after an e-bike collided ...       1\n7612  The Latest: More Homes Razed by Northern Calif...       1\n\n[7613 rows x 2 columns]",
      "text/html": "<div>\n<style scoped>\n    .dataframe tbody tr th:only-of-type {\n        vertical-align: middle;\n    }\n\n    .dataframe tbody tr th {\n        vertical-align: top;\n    }\n\n    .dataframe thead th {\n        text-align: right;\n    }\n</style>\n<table border=\"1\" class=\"dataframe\">\n  <thead>\n    <tr style=\"text-align: right;\">\n      <th></th>\n      <th>text</th>\n      <th>target</th>\n    </tr>\n  </thead>\n  <tbody>\n    <tr>\n      <th>0</th>\n      <td>Our Deeds are the Reason of this #earthquake M...</td>\n      <td>1</td>\n    </tr>\n    <tr>\n      <th>1</th>\n      <td>Forest fire near La Ronge Sask. Canada</td>\n      <td>1</td>\n    </tr>\n    <tr>\n      <th>2</th>\n      <td>All residents asked to 'shelter in place' are ...</td>\n      <td>1</td>\n    </tr>\n    <tr>\n      <th>3</th>\n      <td>13,000 people receive #wildfires evacuation or...</td>\n      <td>1</td>\n    </tr>\n    <tr>\n      <th>4</th>\n      <td>Just got sent this photo from Ruby #Alaska as ...</td>\n      <td>1</td>\n    </tr>\n    <tr>\n      <th>...</th>\n      <td>...</td>\n      <td>...</td>\n    </tr>\n    <tr>\n      <th>7608</th>\n      <td>Two giant cranes holding a bridge collapse int...</td>\n      <td>1</td>\n    </tr>\n    <tr>\n      <th>7609</th>\n      <td>@aria_ahrary @TheTawniest The out of control w...</td>\n      <td>1</td>\n    </tr>\n    <tr>\n      <th>7610</th>\n      <td>M1.94 [01:04 UTC]?5km S of Volcano Hawaii. htt...</td>\n      <td>1</td>\n    </tr>\n    <tr>\n      <th>7611</th>\n      <td>Police investigating after an e-bike collided ...</td>\n      <td>1</td>\n    </tr>\n    <tr>\n      <th>7612</th>\n      <td>The Latest: More Homes Razed by Northern Calif...</td>\n      <td>1</td>\n    </tr>\n  </tbody>\n</table>\n<p>7613 rows × 2 columns</p>\n</div>"
     },
     "execution_count": 2,
     "metadata": {},
     "output_type": "execute_result"
    }
   ],
   "source": [
    "df = pd.read_csv(\"data/train.csv\")\n",
    "df_test = pd.read_csv(\"data/test.csv\")\n",
    "df = df[[\"text\", \"target\"]]\n",
    "print(df.shape)\n",
    "df"
   ]
  },
  {
   "cell_type": "code",
   "execution_count": 3,
   "outputs": [
    {
     "name": "stdout",
     "output_type": "stream",
     "text": [
      "Training Set Shape = (7613, 2)\n",
      "Training Set Memory Usage = 0.12 MB\n",
      "Test Set Shape = (3263, 4)\n",
      "Test Set Memory Usage = 0.10 MB\n"
     ]
    }
   ],
   "source": [
    "print('Training Set Shape = {}'.format(df.shape))\n",
    "print('Training Set Memory Usage = {:.2f} MB'.format(df.memory_usage().sum() / 1024**2))\n",
    "print('Test Set Shape = {}'.format(df_test.shape))\n",
    "print('Test Set Memory Usage = {:.2f} MB'.format(df_test.memory_usage().sum() / 1024**2))"
   ],
   "metadata": {
    "collapsed": false,
    "ExecuteTime": {
     "end_time": "2024-02-19T20:51:17.460158400Z",
     "start_time": "2024-02-19T20:51:17.422145100Z"
    }
   }
  },
  {
   "cell_type": "markdown",
   "source": [
    "# Explore the Dataset"
   ],
   "metadata": {
    "collapsed": false
   }
  },
  {
   "cell_type": "code",
   "execution_count": 4,
   "outputs": [
    {
     "name": "stdout",
     "output_type": "stream",
     "text": [
      "Train Length Stat\n",
      "count    7613.000000\n",
      "mean      101.037436\n",
      "std        33.781325\n",
      "min         7.000000\n",
      "25%        78.000000\n",
      "50%       107.000000\n",
      "75%       133.000000\n",
      "max       157.000000\n",
      "Name: length, dtype: float64\n",
      "\n",
      "Test Length Stat\n",
      "count    3263.000000\n",
      "mean      102.108183\n",
      "std        33.972158\n",
      "min         5.000000\n",
      "25%        78.000000\n",
      "50%       109.000000\n",
      "75%       134.000000\n",
      "max       151.000000\n",
      "Name: length, dtype: float64\n"
     ]
    }
   ],
   "source": [
    "df[\"length\"] = df[\"text\"].apply(lambda x : len(x))\n",
    "df_test[\"length\"] = df_test[\"text\"].apply(lambda x : len(x))\n",
    "\n",
    "print(\"Train Length Stat\")\n",
    "print(df[\"length\"].describe())\n",
    "print()\n",
    "\n",
    "print(\"Test Length Stat\")\n",
    "print(df_test[\"length\"].describe())"
   ],
   "metadata": {
    "collapsed": false,
    "ExecuteTime": {
     "end_time": "2024-02-19T20:51:19.102453500Z",
     "start_time": "2024-02-19T20:51:19.074588500Z"
    }
   }
  },
  {
   "cell_type": "markdown",
   "metadata": {
    "collapsed": false,
    "pycharm": {
     "name": "#%% md\n"
    }
   },
   "source": [
    "# 1. Cleaning & Pre-Processing\n",
    "\n",
    "Remove punctuation"
   ]
  },
  {
   "cell_type": "code",
   "execution_count": 5,
   "metadata": {
    "collapsed": false,
    "pycharm": {
     "name": "#%%\n"
    },
    "ExecuteTime": {
     "end_time": "2024-02-19T20:51:20.705740700Z",
     "start_time": "2024-02-19T20:51:20.672741600Z"
    }
   },
   "outputs": [
    {
     "data": {
      "text/plain": "                                                   text  target  length\n0     Our Deeds are the Reason of this earthquake Ma...       1      69\n1                 Forest fire near La Ronge Sask Canada       1      38\n2     All residents asked to shelter in place are be...       1     133\n3     13 000 people receive wildfires evacuation ord...       1      65\n4     Just got sent this photo from Ruby Alaska as s...       1      88\n...                                                 ...     ...     ...\n7608  Two giant cranes holding a bridge collapse int...       1      83\n7609  aria_ahrary TheTawniest The out of control wil...       1     125\n7610  M1 94 01 04 UTC 5km S of Volcano Hawaii http t...       1      65\n7611  Police investigating after an e bike collided ...       1     137\n7612  The Latest More Homes Razed by Northern Califo...       1      94\n\n[7613 rows x 3 columns]",
      "text/html": "<div>\n<style scoped>\n    .dataframe tbody tr th:only-of-type {\n        vertical-align: middle;\n    }\n\n    .dataframe tbody tr th {\n        vertical-align: top;\n    }\n\n    .dataframe thead th {\n        text-align: right;\n    }\n</style>\n<table border=\"1\" class=\"dataframe\">\n  <thead>\n    <tr style=\"text-align: right;\">\n      <th></th>\n      <th>text</th>\n      <th>target</th>\n      <th>length</th>\n    </tr>\n  </thead>\n  <tbody>\n    <tr>\n      <th>0</th>\n      <td>Our Deeds are the Reason of this earthquake Ma...</td>\n      <td>1</td>\n      <td>69</td>\n    </tr>\n    <tr>\n      <th>1</th>\n      <td>Forest fire near La Ronge Sask Canada</td>\n      <td>1</td>\n      <td>38</td>\n    </tr>\n    <tr>\n      <th>2</th>\n      <td>All residents asked to shelter in place are be...</td>\n      <td>1</td>\n      <td>133</td>\n    </tr>\n    <tr>\n      <th>3</th>\n      <td>13 000 people receive wildfires evacuation ord...</td>\n      <td>1</td>\n      <td>65</td>\n    </tr>\n    <tr>\n      <th>4</th>\n      <td>Just got sent this photo from Ruby Alaska as s...</td>\n      <td>1</td>\n      <td>88</td>\n    </tr>\n    <tr>\n      <th>...</th>\n      <td>...</td>\n      <td>...</td>\n      <td>...</td>\n    </tr>\n    <tr>\n      <th>7608</th>\n      <td>Two giant cranes holding a bridge collapse int...</td>\n      <td>1</td>\n      <td>83</td>\n    </tr>\n    <tr>\n      <th>7609</th>\n      <td>aria_ahrary TheTawniest The out of control wil...</td>\n      <td>1</td>\n      <td>125</td>\n    </tr>\n    <tr>\n      <th>7610</th>\n      <td>M1 94 01 04 UTC 5km S of Volcano Hawaii http t...</td>\n      <td>1</td>\n      <td>65</td>\n    </tr>\n    <tr>\n      <th>7611</th>\n      <td>Police investigating after an e bike collided ...</td>\n      <td>1</td>\n      <td>137</td>\n    </tr>\n    <tr>\n      <th>7612</th>\n      <td>The Latest More Homes Razed by Northern Califo...</td>\n      <td>1</td>\n      <td>94</td>\n    </tr>\n  </tbody>\n</table>\n<p>7613 rows × 3 columns</p>\n</div>"
     },
     "execution_count": 5,
     "metadata": {},
     "output_type": "execute_result"
    }
   ],
   "source": [
    "def remove_punctuation(text):\n",
    "    tokenizer = nltk.RegexpTokenizer(r'\\w+')  # remove punctuation and other non-word characters\n",
    "    tokens = tokenizer.tokenize(text)\n",
    "    return ' '.join(tokens)\n",
    "\n",
    "df['text'] = df['text'].apply(remove_punctuation)\n",
    "df"
   ]
  },
  {
   "cell_type": "markdown",
   "metadata": {
    "collapsed": false,
    "pycharm": {
     "name": "#%% md\n"
    }
   },
   "source": [
    "Remove stopwords"
   ]
  },
  {
   "cell_type": "code",
   "execution_count": 6,
   "metadata": {
    "collapsed": false,
    "pycharm": {
     "name": "#%%\n"
    },
    "ExecuteTime": {
     "end_time": "2024-02-19T20:51:47.268739100Z",
     "start_time": "2024-02-19T20:51:22.117546500Z"
    }
   },
   "outputs": [
    {
     "data": {
      "text/plain": "                                                   text  target  length\n0          Deeds Reason earthquake May ALLAH Forgive us       1      69\n1                 Forest fire near La Ronge Sask Canada       1      38\n2     residents asked shelter place notified officer...       1     133\n3     13 000 people receive wildfires evacuation ord...       1      65\n4     got sent photo Ruby Alaska smoke wildfires pou...       1      88\n...                                                 ...     ...     ...\n7608  Two giant cranes holding bridge collapse nearb...       1      83\n7609  aria_ahrary TheTawniest control wild fires Cal...       1     125\n7610  M1 94 01 04 UTC 5km Volcano Hawaii http co zDt...       1      65\n7611  Police investigating e bike collided car Littl...       1     137\n7612  Latest Homes Razed Northern California Wildfir...       1      94\n\n[7613 rows x 3 columns]",
      "text/html": "<div>\n<style scoped>\n    .dataframe tbody tr th:only-of-type {\n        vertical-align: middle;\n    }\n\n    .dataframe tbody tr th {\n        vertical-align: top;\n    }\n\n    .dataframe thead th {\n        text-align: right;\n    }\n</style>\n<table border=\"1\" class=\"dataframe\">\n  <thead>\n    <tr style=\"text-align: right;\">\n      <th></th>\n      <th>text</th>\n      <th>target</th>\n      <th>length</th>\n    </tr>\n  </thead>\n  <tbody>\n    <tr>\n      <th>0</th>\n      <td>Deeds Reason earthquake May ALLAH Forgive us</td>\n      <td>1</td>\n      <td>69</td>\n    </tr>\n    <tr>\n      <th>1</th>\n      <td>Forest fire near La Ronge Sask Canada</td>\n      <td>1</td>\n      <td>38</td>\n    </tr>\n    <tr>\n      <th>2</th>\n      <td>residents asked shelter place notified officer...</td>\n      <td>1</td>\n      <td>133</td>\n    </tr>\n    <tr>\n      <th>3</th>\n      <td>13 000 people receive wildfires evacuation ord...</td>\n      <td>1</td>\n      <td>65</td>\n    </tr>\n    <tr>\n      <th>4</th>\n      <td>got sent photo Ruby Alaska smoke wildfires pou...</td>\n      <td>1</td>\n      <td>88</td>\n    </tr>\n    <tr>\n      <th>...</th>\n      <td>...</td>\n      <td>...</td>\n      <td>...</td>\n    </tr>\n    <tr>\n      <th>7608</th>\n      <td>Two giant cranes holding bridge collapse nearb...</td>\n      <td>1</td>\n      <td>83</td>\n    </tr>\n    <tr>\n      <th>7609</th>\n      <td>aria_ahrary TheTawniest control wild fires Cal...</td>\n      <td>1</td>\n      <td>125</td>\n    </tr>\n    <tr>\n      <th>7610</th>\n      <td>M1 94 01 04 UTC 5km Volcano Hawaii http co zDt...</td>\n      <td>1</td>\n      <td>65</td>\n    </tr>\n    <tr>\n      <th>7611</th>\n      <td>Police investigating e bike collided car Littl...</td>\n      <td>1</td>\n      <td>137</td>\n    </tr>\n    <tr>\n      <th>7612</th>\n      <td>Latest Homes Razed Northern California Wildfir...</td>\n      <td>1</td>\n      <td>94</td>\n    </tr>\n  </tbody>\n</table>\n<p>7613 rows × 3 columns</p>\n</div>"
     },
     "execution_count": 6,
     "metadata": {},
     "output_type": "execute_result"
    }
   ],
   "source": [
    "def remove_stopwords(text):\n",
    "    # Tokenize the text\n",
    "    words = nltk.word_tokenize(text)\n",
    "\n",
    "    # Remove stopwords\n",
    "    words = [word for word in words if word.lower() not in stopwords.words('english')]\n",
    "\n",
    "    return ' '.join(words)\n",
    "\n",
    "df['text'] = df['text'].apply(remove_stopwords)\n",
    "df"
   ]
  },
  {
   "cell_type": "markdown",
   "metadata": {
    "collapsed": false,
    "pycharm": {
     "name": "#%% md\n"
    }
   },
   "source": []
  },
  {
   "cell_type": "markdown",
   "metadata": {
    "collapsed": false,
    "pycharm": {
     "name": "#%% md\n"
    }
   },
   "source": [
    "# Build a dictionary of words\n",
    "Our LSTM will read a sequence of words. Keep in mind that an LSTM can not handle words but, only numbers. We therefore need a good way to encode our words as numbers. To do so we need to know upfront all words in our corpus. This is what we build up here"
   ]
  },
  {
   "cell_type": "code",
   "execution_count": 7,
   "metadata": {
    "execution": {
     "iopub.execute_input": "2022-03-05T22:47:33.107916Z",
     "iopub.status.busy": "2022-03-05T22:47:33.107473Z",
     "iopub.status.idle": "2022-03-05T22:47:33.115962Z",
     "shell.execute_reply": "2022-03-05T22:47:33.115037Z",
     "shell.execute_reply.started": "2022-03-05T22:47:33.107881Z"
    },
    "pycharm": {
     "name": "#%%\n"
    },
    "trusted": true,
    "ExecuteTime": {
     "end_time": "2024-02-19T20:51:49.796701Z",
     "start_time": "2024-02-19T20:51:49.758700600Z"
    }
   },
   "outputs": [
    {
     "data": {
      "text/plain": "'Number of different words in all tweets: 25490'"
     },
     "execution_count": 7,
     "metadata": {},
     "output_type": "execute_result"
    }
   ],
   "source": [
    "all_words_dictionary = defaultdict(int)  # each new key in the dictionary gets default value 0\n",
    "\n",
    "# we go through all tweets & words to build up the dictionary.\n",
    "# While doing so, we also count the word occurrences (we don't use the information right now - could be a potential improvement)\n",
    "\n",
    "for row in df['text']:\n",
    "    # Tokenize the text into words\n",
    "    words = row.split()\n",
    "\n",
    "    # update the word frequency in the dictionary\n",
    "    for word in words:\n",
    "        all_words_dictionary[word] += 1\n",
    "\n",
    "# convert the dictionary to a regular dictionary (so if you try to access a non-existing key, now, you'll get an error)\n",
    "all_words_dictionary = dict(all_words_dictionary)\n",
    "\n",
    "word_to_id = {}\n",
    "id_counter = 1  # we start from 1, 0 is reserved for unknown words\n",
    "for word in all_words_dictionary.keys():\n",
    "    word_to_id[word] = id_counter\n",
    "    id_counter += 1\n",
    "\n",
    "f\"Number of different words in all tweets: {len(all_words_dictionary)}\""
   ]
  },
  {
   "cell_type": "markdown",
   "metadata": {
    "collapsed": false,
    "pycharm": {
     "name": "#%% md\n"
    }
   },
   "source": [
    "# Max Sequence Length\n",
    "As tweets have different lengths, we also need to know what's the maximum length of a sequence. We then \"pad\" all other sequence to that length.\n",
    "A performance improvement would be to do so for each batch instead of the whole dataset."
   ]
  },
  {
   "cell_type": "code",
   "execution_count": 8,
   "metadata": {
    "execution": {
     "iopub.execute_input": "2022-03-05T22:47:35.755794Z",
     "iopub.status.busy": "2022-03-05T22:47:35.755546Z",
     "iopub.status.idle": "2022-03-05T22:47:35.822041Z",
     "shell.execute_reply": "2022-03-05T22:47:35.821079Z",
     "shell.execute_reply.started": "2022-03-05T22:47:35.755764Z"
    },
    "pycharm": {
     "name": "#%%\n"
    },
    "trusted": true,
    "ExecuteTime": {
     "end_time": "2024-02-19T20:51:51.128022800Z",
     "start_time": "2024-02-19T20:51:51.103035100Z"
    }
   },
   "outputs": [
    {
     "name": "stdout",
     "output_type": "stream",
     "text": [
      "Deeds Reason earthquake May ALLAH Forgive us\n",
      "residents asked shelter place notified officers evacuation shelter place orders expected\n",
      "RockyFire Update California Hwy 20 closed directions due Lake County fire CAfire wildfires\n",
      "Haha South Tampa getting flooded hah WAIT SECOND LIVE SOUTH TAMPA GON NA GON NA FVCK flooding\n",
      "Barbados Bridgetown JAMAICA ÛÒ Two cars set ablaze SANTA CRUZ ÛÓ Head St Elizabeth Police Superintende http co wDUEaj8Q4J\n",
      "Accident left lane blocked Manchester Rt 293 NB Eddy Rd stop go traffic back NH 3A delay 4 mins traffic\n",
      "9 Mile backup 77 South accident blocking Right 2 Lanes Exit 31 Langtree Rd consider NC 115 NC 150 NC 16 alternate\n",
      "Chevrolet Avalanche LT 2011 lt used 5 3 l v 8 16 v automatic 4 wd pickup truck premium b Û_ http co OBkY8Pc89H http co dXIRnTdSrd\n"
     ]
    },
    {
     "data": {
      "text/plain": "'Maximum sequence lenght: 27'"
     },
     "execution_count": 8,
     "metadata": {},
     "output_type": "execute_result"
    }
   ],
   "source": [
    "max_seq_len = -1\n",
    "\n",
    "for text in df['text']:\n",
    "    words = text.split()  # split the text into words\n",
    "    seq_len = len(words)  # calculate the sequence length (number of words)\n",
    "    if seq_len > max_seq_len:\n",
    "        print(text)\n",
    "        max_seq_len = seq_len\n",
    "\n",
    "f\"Maximum sequence lenght: {max_seq_len}\""
   ]
  },
  {
   "cell_type": "markdown",
   "metadata": {
    "collapsed": false,
    "pycharm": {
     "name": "#%% md\n"
    }
   },
   "source": [
    "# Split data stratified\n",
    "While Kaggle provides a train and test set, we only know the target label for the training set. We therefore split the training data in a stratified way."
   ]
  },
  {
   "cell_type": "code",
   "execution_count": 9,
   "metadata": {
    "execution": {
     "iopub.execute_input": "2022-03-05T23:07:00.606866Z",
     "iopub.status.busy": "2022-03-05T23:07:00.606512Z",
     "iopub.status.idle": "2022-03-05T23:07:00.619827Z",
     "shell.execute_reply": "2022-03-05T23:07:00.619058Z",
     "shell.execute_reply.started": "2022-03-05T23:07:00.606833Z"
    },
    "pycharm": {
     "name": "#%%\n"
    },
    "trusted": true,
    "ExecuteTime": {
     "end_time": "2024-02-19T20:51:52.333138800Z",
     "start_time": "2024-02-19T20:51:52.308113200Z"
    }
   },
   "outputs": [
    {
     "name": "stdout",
     "output_type": "stream",
     "text": [
      "5709\n",
      "Training set class distribution:\n",
      "target\n",
      "0    0.570328\n",
      "1    0.429672\n",
      "Name: proportion, dtype: float64\n",
      "\n",
      "Validation set class distribution:\n",
      "target\n",
      "0    0.570378\n",
      "1    0.429622\n",
      "Name: proportion, dtype: float64\n"
     ]
    }
   ],
   "source": [
    "# Split data into training and testing\n",
    "\n",
    "X = df['text']\n",
    "y = df['target']\n",
    "\n",
    "\n",
    "X_train, X_valid, y_train, y_valid = train_test_split(X, y, test_size=0.25, random_state=42, stratify=y)\n",
    "\n",
    "print(len(X_train))\n",
    "\n",
    "# Check the class distribution in the training and validation sets\n",
    "print(\"Training set class distribution:\")\n",
    "print(y_train.value_counts(normalize=True))\n",
    "\n",
    "print(\"\\nValidation set class distribution:\")\n",
    "print(y_valid.value_counts(normalize=True))"
   ]
  },
  {
   "cell_type": "markdown",
   "metadata": {
    "collapsed": false,
    "pycharm": {
     "name": "#%% md\n"
    }
   },
   "source": [
    "# Hyperparameter Configuration\n",
    "There are several important hyperparameters we can configure. For simplicity, we define them here altogether"
   ]
  },
  {
   "cell_type": "code",
   "execution_count": 10,
   "metadata": {
    "collapsed": false,
    "pycharm": {
     "name": "#%%\n"
    },
    "ExecuteTime": {
     "end_time": "2024-02-19T20:51:53.560572900Z",
     "start_time": "2024-02-19T20:51:53.532574700Z"
    }
   },
   "outputs": [],
   "source": [
    "BATCH_SIZE = 32  # specifies the number of samples that will be passed through the network at one time\n",
    "LEARNING_RATE = 1e-3\n",
    "DROPOUT = 0.5  # prevent overfitting\n",
    "INPUT_SIZE = len(all_words_dictionary) + 1  # dimension of input layer of the model --> each word is a unique input + one for unknown words\n",
    "HIDDEN_DIM = 128  # number of features in the hidden state.\n",
    "LSTM_LAYERS = 2  # number of LSTM layers stacked together\n",
    "EPOCHS = 10\n",
    "OUTPUT_SIZE = 2  # number of output classes"
   ]
  },
  {
   "cell_type": "markdown",
   "metadata": {
    "collapsed": false,
    "pycharm": {
     "name": "#%% md\n"
    }
   },
   "source": [
    "# 2. Dataset & Data Loader\n",
    "By using the Dataset/Dataloader classes, we allow pytorch to efficiently load, batch and cache data. While there are many predefined datasets (e.g., to load images from folders), we define here our own."
   ]
  },
  {
   "cell_type": "code",
   "execution_count": 11,
   "metadata": {
    "collapsed": false,
    "pycharm": {
     "name": "#%%\n"
    },
    "ExecuteTime": {
     "end_time": "2024-02-19T20:51:54.940584Z",
     "start_time": "2024-02-19T20:51:54.933557Z"
    }
   },
   "outputs": [],
   "source": [
    "class TweetDataset(Dataset):\n",
    "    def __init__(self, x, y, max_length, dictionary):\n",
    "        self.x = self.tokenizer(x, max_length, dictionary)\n",
    "        self.y = y.to_numpy()  # converts the series to a one-dimensional numpy array\n",
    "\n",
    "    def __len__(self):\n",
    "        return len(self.x)\n",
    "\n",
    "    def __getitem__(self, idx):\n",
    "        return self.x[idx], self.y[idx]\n",
    "\n",
    "\n",
    "    @staticmethod\n",
    "    def tokenizer(all_tweets, max_length, dictionary):\n",
    "        \"\"\"\n",
    "        Given a sequence of words, tokenize by space, use the prepared dictionary\n",
    "        to encode the word and pad the sequence to max_sequence_length\n",
    "        \"\"\"\n",
    "        sequences = []\n",
    "        # x_all is a list of all tweets\n",
    "        for tweet in all_tweets:\n",
    "            # tokenize the sentence into words --> a sentence is a tweet here\n",
    "            _words = tweet.split()\n",
    "            #print(f\"the words are {_words}\")\n",
    "\n",
    "            # encode words using the prepared dictionary\n",
    "            encoded_tweet = [dictionary.get(_word, 0) for _word in _words]  # use 0 for unknown words\n",
    "\n",
    "            #print(f\"the encoded sentence is {encoded_tweet}\")\n",
    "\n",
    "            # pad the sequence to max_length if it's shorter\n",
    "            if len(encoded_tweet) < max_length:\n",
    "                pad_length = max_length - len(encoded_tweet)\n",
    "                encoded_tweet += [0] * pad_length  # pad with zeros\n",
    "\n",
    "            #print(f\"after padding, the encoded sentence is {encoded_tweet}\")\n",
    "            sequences.append(encoded_tweet)\n",
    "\n",
    "        return sequences  # sequences is a list - each entry is a list of encoded words\n"
   ]
  },
  {
   "cell_type": "code",
   "execution_count": 12,
   "outputs": [],
   "source": [
    "# build datasets for training and validation\n",
    "train = TweetDataset(X_train, y_train, max_seq_len, word_to_id)\n",
    "validation = TweetDataset(X_valid, y_valid, max_seq_len, word_to_id)\n",
    "\n",
    "# initialize dataloader for test and train\n",
    "loader_training = DataLoader(train, batch_size=BATCH_SIZE, shuffle=False)\n",
    "loader_validation = DataLoader(validation, batch_size=BATCH_SIZE, shuffle=False)"
   ],
   "metadata": {
    "collapsed": false,
    "ExecuteTime": {
     "end_time": "2024-02-19T20:51:56.184016800Z",
     "start_time": "2024-02-19T20:51:56.140000500Z"
    }
   }
  },
  {
   "cell_type": "markdown",
   "source": [
    "# 3. Model\n",
    "Now the fun part starts: we define the model. While the core of the model is an LSTM, we also need embeddings to encode the input and linear layers for the final classification"
   ],
   "metadata": {
    "collapsed": false
   }
  },
  {
   "cell_type": "code",
   "execution_count": 13,
   "outputs": [],
   "source": [
    "class TweetTextClassifier(nn.Module):\n",
    "    \"\"\"\n",
    "    LSTM Network definition\n",
    "    \"\"\"\n",
    "    def __init__(self):\n",
    "        super(TweetTextClassifier, self).__init__()\n",
    "        self.embedding = nn.Embedding(INPUT_SIZE, HIDDEN_DIM)\n",
    "        self.lstm = nn.LSTM(HIDDEN_DIM, HIDDEN_DIM, LSTM_LAYERS, dropout=DROPOUT, batch_first=True)\n",
    "        self.dropout = nn.Dropout(DROPOUT)\n",
    "        self.fc = nn.Linear(HIDDEN_DIM, 1)\n",
    "\n",
    "\n",
    "    def forward(self, x):\n",
    "        embedded = self.embedding(x)\n",
    "        lstm_out, (ht, ct) = self.lstm(embedded)\n",
    "        out = self.dropout(ht[-1])\n",
    "        out = self.fc(out)\n",
    "        return out"
   ],
   "metadata": {
    "collapsed": false,
    "ExecuteTime": {
     "end_time": "2024-02-19T20:51:57.396353600Z",
     "start_time": "2024-02-19T20:51:57.372349900Z"
    }
   }
  },
  {
   "cell_type": "code",
   "execution_count": 14,
   "outputs": [
    {
     "data": {
      "text/plain": "device(type='cuda')"
     },
     "execution_count": 14,
     "metadata": {},
     "output_type": "execute_result"
    }
   ],
   "source": [
    "# define the device on which we load the model\n",
    "device = torch.device('cuda' if torch.cuda.is_available() else 'cpu')\n",
    "device"
   ],
   "metadata": {
    "collapsed": false,
    "ExecuteTime": {
     "end_time": "2024-02-19T20:51:58.340338Z",
     "start_time": "2024-02-19T20:51:58.285927800Z"
    }
   }
  },
  {
   "cell_type": "code",
   "execution_count": 15,
   "outputs": [
    {
     "data": {
      "text/plain": "TweetTextClassifier(\n  (embedding): Embedding(25491, 128)\n  (lstm): LSTM(128, 128, num_layers=2, batch_first=True, dropout=0.5)\n  (dropout): Dropout(p=0.5, inplace=False)\n  (fc): Linear(in_features=128, out_features=1, bias=True)\n)"
     },
     "execution_count": 15,
     "metadata": {},
     "output_type": "execute_result"
    }
   ],
   "source": [
    "# Model initialization\n",
    "model = TweetTextClassifier().to(device)\n",
    "\n",
    "# Optimizer initialization.\n",
    "optimizer = optim.Adam(model.parameters(), lr=LEARNING_RATE)\n",
    "\n",
    "model"
   ],
   "metadata": {
    "collapsed": false,
    "ExecuteTime": {
     "end_time": "2024-02-19T20:52:02.013536800Z",
     "start_time": "2024-02-19T20:51:58.870262500Z"
    }
   }
  },
  {
   "cell_type": "code",
   "execution_count": 16,
   "outputs": [],
   "source": [
    "def calculate_accuracy(y_true, y_pred):\n",
    "    # Ensure y_true is a NumPy array for consistency\n",
    "    y_true = np.array(y_true)\n",
    "\n",
    "    # If y_pred is a list, convert it to a NumPy array\n",
    "    if isinstance(y_pred, list):\n",
    "        y_pred = np.array(y_pred)\n",
    "    elif isinstance(y_pred, np.ndarray) and y_pred.shape[1] == 1:\n",
    "        # If y_pred is a ndarray with shape (N, 1), flatten it to (N,)\n",
    "        y_pred = y_pred.flatten()\n",
    "\n",
    "    # Calculate the number of correct predictions\n",
    "    correct_predictions = np.sum(y_true == y_pred)\n",
    "\n",
    "    # Calculate the accuracy\n",
    "    accuracy = correct_predictions / len(y_true)\n",
    "\n",
    "    print(f\"accuracy is {accuracy}\")\n",
    "    return accuracy"
   ],
   "metadata": {
    "collapsed": false,
    "ExecuteTime": {
     "end_time": "2024-02-19T20:52:02.698606900Z",
     "start_time": "2024-02-19T20:52:02.676122500Z"
    }
   }
  },
  {
   "cell_type": "code",
   "execution_count": 17,
   "outputs": [
    {
     "name": "stdout",
     "output_type": "stream",
     "text": [
      "accuracy is 0.5703275529865125\n",
      "accuracy is 0.5703781512605042\n",
      "epoch: 0, loss: 0.66897, train: 0.57033, test: 0.57038\n",
      "              precision    recall  f1-score   support\n",
      "\n",
      "           0       0.57      1.00      0.73      1086\n",
      "           1       0.00      0.00      0.00       818\n",
      "\n",
      "    accuracy                           0.57      1904\n",
      "   macro avg       0.29      0.50      0.36      1904\n",
      "weighted avg       0.33      0.57      0.41      1904\n",
      "\n",
      "accuracy is 0.5703275529865125\n",
      "accuracy is 0.5703781512605042\n",
      "epoch: 1, loss: 0.66728, train: 0.57033, test: 0.57038\n",
      "accuracy is 0.5703275529865125\n",
      "accuracy is 0.5703781512605042\n",
      "epoch: 2, loss: 0.67268, train: 0.57033, test: 0.57038\n",
      "accuracy is 0.5766333858819408\n",
      "accuracy is 0.6039915966386554\n",
      "epoch: 3, loss: 0.64949, train: 0.57663, test: 0.60399\n",
      "accuracy is 0.675249605885444\n",
      "accuracy is 0.740546218487395\n",
      "epoch: 4, loss: 0.61960, train: 0.67525, test: 0.74055\n",
      "accuracy is 0.7961114030478192\n",
      "accuracy is 0.7410714285714286\n",
      "epoch: 5, loss: 0.40756, train: 0.79611, test: 0.74107\n",
      "              precision    recall  f1-score   support\n",
      "\n",
      "           0       0.77      0.77      0.77      1086\n",
      "           1       0.70      0.70      0.70       818\n",
      "\n",
      "    accuracy                           0.74      1904\n",
      "   macro avg       0.74      0.74      0.74      1904\n",
      "weighted avg       0.74      0.74      0.74      1904\n",
      "\n",
      "accuracy is 0.8579435978279909\n",
      "accuracy is 0.7379201680672269\n",
      "epoch: 6, loss: 0.41666, train: 0.85794, test: 0.73792\n",
      "accuracy is 0.9124189875634963\n",
      "accuracy is 0.7373949579831933\n",
      "epoch: 7, loss: 0.09878, train: 0.91242, test: 0.73739\n",
      "accuracy is 0.9446488001401296\n",
      "accuracy is 0.7421218487394958\n",
      "epoch: 8, loss: 0.03321, train: 0.94465, test: 0.74212\n",
      "accuracy is 0.9689963215974776\n",
      "accuracy is 0.7400210084033614\n",
      "epoch: 9, loss: 0.01662, train: 0.96900, test: 0.74002\n",
      "              precision    recall  f1-score   support\n",
      "\n",
      "           0       0.77      0.77      0.77      1086\n",
      "           1       0.70      0.70      0.70       818\n",
      "\n",
      "    accuracy                           0.74      1904\n",
      "   macro avg       0.73      0.73      0.73      1904\n",
      "weighted avg       0.74      0.74      0.74      1904\n",
      "\n"
     ]
    }
   ],
   "source": [
    "# Training\n",
    "train_loss_list = []\n",
    "train_acc_list = []\n",
    "test_acc_list = []\n",
    "\n",
    "for epoch in range(EPOCHS):\n",
    "\n",
    "    # Training\n",
    "    model.train()\n",
    "    train_predictions = []\n",
    "    for x_batch, y_batch in loader_training:\n",
    "        # x_bach is a list --> each item is a list of integers\n",
    "        # torch.stack --> takes a list of tensors (the integers are converted implicitly) and stacks them to a new tensor of shape (N, L)\n",
    "        # --> N: batch size, L: common length of the list\n",
    "\n",
    "        # .transpose(0, 1) --> swaps first and second dimension, tensor now is of shape (L, N).\n",
    "        # the LSTM expects data to be of shape (sequence_length, batch_size, features)\n",
    "        x = torch.stack(x_batch).transpose(0, 1).to(device)\n",
    "        y = y_batch.to(device)  # y and y_batch are tensors of shape (N,), meaning a 1D tensor with N elements\n",
    "\n",
    "        y_pred = model(x)  # y_pred is a tensor of shape (N, 1), where N is the batch_size, and each element is a logit (a raw output score)\n",
    "\n",
    "        # unsqueeze adds an extra dimension, meaning the (N,) tensor gets (N, 1) to match y_pred\n",
    "        # we compare logits with true labels (0 or 1). This loss function applies a sigmoid to calculate probabilities from the logits.\n",
    "        loss = F.binary_cross_entropy_with_logits(y_pred, y.unsqueeze(1).float(), reduction='mean')\n",
    "\n",
    "        optimizer.zero_grad()\n",
    "        loss.backward()\n",
    "        optimizer.step()\n",
    "\n",
    "        # Flatten y_pred and convert it to a list of 0s and 1s based on the threshold\n",
    "        y_pred_list = [1 if pred > 0.5 else 0 for pred in y_pred.squeeze().detach().cpu().numpy()]\n",
    "\n",
    "        # Save predictions for metrics calculation\n",
    "        train_predictions += y_pred_list\n",
    "\n",
    "    train_accuracy = calculate_accuracy(y_train, train_predictions)  # train_predictions is just a list here\n",
    "    train_acc_list.append(train_accuracy)\n",
    "\n",
    "    # Evaluation\n",
    "    with torch.no_grad():\n",
    "        model.eval()\n",
    "        validation_predictions = torch.Tensor().to(device)\n",
    "\n",
    "        for x_batch, y_batch in loader_validation:\n",
    "            x = torch.stack(x_batch).transpose(0, 1).to(device)\n",
    "            y = y_batch.to(device)\n",
    "\n",
    "            y_pred = model(x)  # y_pred is a tensor of shape (N, 1), where N is the batch_size, and each element is a logit (a raw output score)\n",
    "\n",
    "            # Aggregate predictions\n",
    "            validation_predictions = torch.cat((validation_predictions, y_pred), 0)\n",
    "\n",
    "    binary_predictions = (validation_predictions.sigmoid() > 0.5).long().cpu().numpy()  # binary_predictions is a ndarray of shape (N, 1)\n",
    "    test_accuracy = calculate_accuracy(y_valid, binary_predictions)\n",
    "    test_acc_list.append(test_accuracy)\n",
    "\n",
    "    train_loss_list.append(loss.item())\n",
    "\n",
    "    print(f\"epoch: {epoch}, loss: {loss.item():.5f}, train: {train_accuracy:.5f}, test: {test_accuracy:.5f}\")\n",
    "\n",
    "    if epoch == 0 or epoch == EPOCHS-1 or epoch == math.floor(EPOCHS/2):\n",
    "        print(classification_report(y_valid, [1 if x > 0.5 else 0 for x in binary_predictions], zero_division=0))"
   ],
   "metadata": {
    "collapsed": false,
    "ExecuteTime": {
     "end_time": "2024-02-19T20:52:10.747346900Z",
     "start_time": "2024-02-19T20:52:03.357931400Z"
    }
   }
  },
  {
   "cell_type": "markdown",
   "source": [
    "## Print metrics"
   ],
   "metadata": {
    "collapsed": false
   }
  },
  {
   "cell_type": "code",
   "execution_count": 18,
   "outputs": [
    {
     "data": {
      "text/plain": "<Axes: >"
     },
     "execution_count": 18,
     "metadata": {},
     "output_type": "execute_result"
    },
    {
     "data": {
      "text/plain": "<Figure size 640x480 with 1 Axes>",
      "image/png": "[encoded data removed]"
     },
     "metadata": {},
     "output_type": "display_data"
    }
   ],
   "source": [
    "sns.lineplot(x=list(range(EPOCHS)),y=train_loss_list, label='train loss')"
   ],
   "metadata": {
    "collapsed": false,
    "ExecuteTime": {
     "end_time": "2024-02-19T20:52:12.743276500Z",
     "start_time": "2024-02-19T20:52:12.502251400Z"
    }
   }
  },
  {
   "cell_type": "code",
   "execution_count": 19,
   "outputs": [
    {
     "data": {
      "text/plain": "<Axes: >"
     },
     "execution_count": 19,
     "metadata": {},
     "output_type": "execute_result"
    },
    {
     "data": {
      "text/plain": "<Figure size 640x480 with 1 Axes>",
      "image/png": "[encoded data removed]"
     },
     "metadata": {},
     "output_type": "display_data"
    }
   ],
   "source": [
    "sns.lineplot(x=list(range(EPOCHS)),y=train_acc_list, label=\"train accuracy\")\n",
    "sns.lineplot(x=list(range(EPOCHS)),y=test_acc_list, label=\"test accuracy\")"
   ],
   "metadata": {
    "collapsed": false,
    "ExecuteTime": {
     "end_time": "2024-02-19T20:52:15.403507400Z",
     "start_time": "2024-02-19T20:52:15.151414500Z"
    }
   }
  },
  {
   "cell_type": "markdown",
   "source": [
    "## Create submission file"
   ],
   "metadata": {
    "collapsed": false
   }
  },
  {
   "cell_type": "markdown",
   "source": [
    "### Preprocess the test data"
   ],
   "metadata": {
    "collapsed": false
   }
  },
  {
   "cell_type": "code",
   "execution_count": 20,
   "outputs": [],
   "source": [
    "df_test = df_test[[\"id\", \"text\"]]\n",
    "df_test['text'] = df_test['text'].apply(remove_punctuation)\n",
    "df_test['text'] = df_test['text'].apply(remove_stopwords)"
   ],
   "metadata": {
    "collapsed": false,
    "ExecuteTime": {
     "end_time": "2024-02-19T20:52:32.266292700Z",
     "start_time": "2024-02-19T20:52:21.129072500Z"
    }
   }
  },
  {
   "cell_type": "code",
   "execution_count": 21,
   "outputs": [],
   "source": [
    "class TweetDatasetTest(Dataset):\n",
    "    def __init__(self, x, max_length, dictionary):\n",
    "        self.x = self.tokenizer(x, max_length, dictionary)\n",
    "\n",
    "    def __len__(self):\n",
    "        return len(self.x)\n",
    "\n",
    "    def __getitem__(self, idx):\n",
    "        return self.x[idx]\n",
    "\n",
    "\n",
    "    @staticmethod\n",
    "    def tokenizer(all_tweets, max_length, dictionary):\n",
    "        \"\"\"\n",
    "        Given a sequence of words, tokenize by space, use the prepared dictionary\n",
    "        to encode the word and pad the sequence to max_sequence_length\n",
    "        \"\"\"\n",
    "        sequences = []\n",
    "        # x_all is a list of all tweets\n",
    "        for tweet in all_tweets:\n",
    "            # tokenize the sentence into words --> a sentence is a tweet here\n",
    "            _words = tweet.split()\n",
    "            #print(f\"the words are {_words}\")\n",
    "\n",
    "            # encode words using the prepared dictionary\n",
    "            encoded_tweet = [dictionary.get(_word, 0) for _word in _words]  # use 0 for unknown words\n",
    "\n",
    "            #print(f\"the encoded sentence is {encoded_tweet}\")\n",
    "\n",
    "            # pad the sequence to max_length if it's shorter\n",
    "            if len(encoded_tweet) < max_length:\n",
    "                pad_length = max_length - len(encoded_tweet)\n",
    "                encoded_tweet += [0] * pad_length  # pad with zeros\n",
    "\n",
    "            #print(f\"after padding, the encoded sentence is {encoded_tweet}\")\n",
    "            sequences.append(encoded_tweet)\n",
    "\n",
    "        return sequences  # sequences is a list - each entry is a list of encoded words"
   ],
   "metadata": {
    "collapsed": false,
    "ExecuteTime": {
     "end_time": "2024-02-19T20:52:33.727246500Z",
     "start_time": "2024-02-19T20:52:33.701606300Z"
    }
   }
  },
  {
   "cell_type": "code",
   "execution_count": 22,
   "outputs": [],
   "source": [
    "test_dataset = TweetDatasetTest(df_test['text'], max_length=max_seq_len, dictionary=all_words_dictionary)\n",
    "test_loader = DataLoader(test_dataset, batch_size=32, shuffle=False)"
   ],
   "metadata": {
    "collapsed": false,
    "ExecuteTime": {
     "end_time": "2024-02-19T20:52:34.730449900Z",
     "start_time": "2024-02-19T20:52:34.699562800Z"
    }
   }
  },
  {
   "cell_type": "code",
   "execution_count": 23,
   "outputs": [],
   "source": [
    "model.eval()\n",
    "predictions = []\n",
    "with torch.no_grad():\n",
    "    for inputs in test_loader:\n",
    "        x = torch.stack(inputs).transpose(0, 1).to(device)\n",
    "        outputs = model(x)\n",
    "        # Assuming outputs is your tensor of logits with shape (N, 1)\n",
    "        probabilities = torch.sigmoid(outputs)\n",
    "        labels = (probabilities >= 0.5).long()\n",
    "        predictions.extend(labels.cpu().numpy().flatten().tolist())\n",
    "\n",
    "        # print(f\"p: {predicted}\")\n",
    "        # predictions.extend(predicted.cpu().numpy())\n",
    "\n",
    "submission = pd.DataFrame({'id': df_test['id'], 'target': predictions})\n",
    "submission.to_csv('submission.csv', index=False)"
   ],
   "metadata": {
    "collapsed": false,
    "ExecuteTime": {
     "end_time": "2024-02-19T20:52:35.971488600Z",
     "start_time": "2024-02-19T20:52:35.480531900Z"
    }
   }
  },
  {
   "cell_type": "code",
   "execution_count": null,
   "outputs": [],
   "source": [],
   "metadata": {
    "collapsed": false
   }
  }
 ],
 "metadata": {
  "kernelspec": {
   "display_name": "Python 3",
   "language": "python",
   "name": "python3"
  },
  "language_info": {
   "codemirror_mode": {
    "name": "ipython",
    "version": 3
   },
   "file_extension": ".py",
   "mimetype": "text/x-python",
   "name": "python",
   "nbconvert_exporter": "python",
   "pygments_lexer": "ipython3",
   "version": "3.6.4"
  }
 },
 "nbformat": 4,
 "nbformat_minor": 4
}

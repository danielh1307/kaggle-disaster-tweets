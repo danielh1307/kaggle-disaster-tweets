{
 "cells": [
  {
   "cell_type": "markdown",
   "metadata": {
    "collapsed": false,
    "pycharm": {
     "name": "#%% md\n"
    }
   },
   "source": [
    "# NLP with disaster tweets - A case for LSTM\n",
    "In this notebook we try to predict which Tweets are about real disasters and which ones are not. We use the data from [https://www.kaggle.com/competitions/nlp-getting-started](https://www.kaggle.com/competitions/nlp-getting-started) and implement a simple solution based on LSTM"
   ]
  },
  {
   "cell_type": "markdown",
   "metadata": {
    "collapsed": false,
    "pycharm": {
     "name": "#%% md\n"
    }
   },
   "source": []
  },
  {
   "cell_type": "code",
   "execution_count": 75,
   "metadata": {
    "execution": {
     "iopub.execute_input": "2022-03-05T22:25:22.852701Z",
     "iopub.status.busy": "2022-03-05T22:25:22.852431Z",
     "iopub.status.idle": "2022-03-05T22:25:22.858568Z",
     "shell.execute_reply": "2022-03-05T22:25:22.857468Z",
     "shell.execute_reply.started": "2022-03-05T22:25:22.852671Z"
    },
    "pycharm": {
     "name": "#%%\n"
    },
    "trusted": true,
    "ExecuteTime": {
     "end_time": "2024-02-18T18:42:05.857248500Z",
     "start_time": "2024-02-18T18:42:05.679655900Z"
    }
   },
   "outputs": [
    {
     "name": "stderr",
     "output_type": "stream",
     "text": [
      "[nltk_data] Downloading package stopwords to\n",
      "[nltk_data]     C:\\Users\\hammd\\AppData\\Roaming\\nltk_data...\n",
      "[nltk_data]   Package stopwords is already up-to-date!\n",
      "[nltk_data] Downloading package punkt to\n",
      "[nltk_data]     C:\\Users\\hammd\\AppData\\Roaming\\nltk_data...\n",
      "[nltk_data]   Package punkt is already up-to-date!\n"
     ]
    }
   ],
   "source": [
    "import math\n",
    "\n",
    "import torch\n",
    "import torch.nn as nn\n",
    "import torch.optim as optim\n",
    "import torch.nn.functional as F\n",
    "from sklearn.metrics import classification_report\n",
    "\n",
    "from torch.utils.data import Dataset\n",
    "from torch.utils.data import DataLoader\n",
    "\n",
    "import numpy as np\n",
    "import pandas as pd\n",
    "\n",
    "import string\n",
    "\n",
    "# For pre-processing, we use the simple nltk library. You might want to upgrade to SpaCy for better results\n",
    "import nltk\n",
    "nltk.download('stopwords')\n",
    "nltk.download('punkt')\n",
    "\n",
    "from nltk.corpus import stopwords\n",
    "\n",
    "from sklearn.model_selection import train_test_split\n",
    "import seaborn as sns\n",
    "\n",
    "from collections import defaultdict"
   ]
  },
  {
   "cell_type": "markdown",
   "metadata": {
    "collapsed": false,
    "pycharm": {
     "name": "#%% md\n"
    }
   },
   "source": [
    "# 1. Load Data\n",
    "Load data and reduce to the features we are interested in. Keep in mind that the target is a binary variable with 0 (no disaster) and 1 (disaster)\n"
   ]
  },
  {
   "cell_type": "code",
   "execution_count": 76,
   "metadata": {
    "collapsed": false,
    "pycharm": {
     "name": "#%%\n"
    },
    "ExecuteTime": {
     "end_time": "2024-02-18T18:42:06.913200600Z",
     "start_time": "2024-02-18T18:42:06.879233800Z"
    }
   },
   "outputs": [
    {
     "name": "stdout",
     "output_type": "stream",
     "text": [
      "(7613, 2)\n"
     ]
    },
    {
     "data": {
      "text/plain": "                                                   text  target\n0     Our Deeds are the Reason of this #earthquake M...       1\n1                Forest fire near La Ronge Sask. Canada       1\n2     All residents asked to 'shelter in place' are ...       1\n3     13,000 people receive #wildfires evacuation or...       1\n4     Just got sent this photo from Ruby #Alaska as ...       1\n...                                                 ...     ...\n7608  Two giant cranes holding a bridge collapse int...       1\n7609  @aria_ahrary @TheTawniest The out of control w...       1\n7610  M1.94 [01:04 UTC]?5km S of Volcano Hawaii. htt...       1\n7611  Police investigating after an e-bike collided ...       1\n7612  The Latest: More Homes Razed by Northern Calif...       1\n\n[7613 rows x 2 columns]",
      "text/html": "<div>\n<style scoped>\n    .dataframe tbody tr th:only-of-type {\n        vertical-align: middle;\n    }\n\n    .dataframe tbody tr th {\n        vertical-align: top;\n    }\n\n    .dataframe thead th {\n        text-align: right;\n    }\n</style>\n<table border=\"1\" class=\"dataframe\">\n  <thead>\n    <tr style=\"text-align: right;\">\n      <th></th>\n      <th>text</th>\n      <th>target</th>\n    </tr>\n  </thead>\n  <tbody>\n    <tr>\n      <th>0</th>\n      <td>Our Deeds are the Reason of this #earthquake M...</td>\n      <td>1</td>\n    </tr>\n    <tr>\n      <th>1</th>\n      <td>Forest fire near La Ronge Sask. Canada</td>\n      <td>1</td>\n    </tr>\n    <tr>\n      <th>2</th>\n      <td>All residents asked to 'shelter in place' are ...</td>\n      <td>1</td>\n    </tr>\n    <tr>\n      <th>3</th>\n      <td>13,000 people receive #wildfires evacuation or...</td>\n      <td>1</td>\n    </tr>\n    <tr>\n      <th>4</th>\n      <td>Just got sent this photo from Ruby #Alaska as ...</td>\n      <td>1</td>\n    </tr>\n    <tr>\n      <th>...</th>\n      <td>...</td>\n      <td>...</td>\n    </tr>\n    <tr>\n      <th>7608</th>\n      <td>Two giant cranes holding a bridge collapse int...</td>\n      <td>1</td>\n    </tr>\n    <tr>\n      <th>7609</th>\n      <td>@aria_ahrary @TheTawniest The out of control w...</td>\n      <td>1</td>\n    </tr>\n    <tr>\n      <th>7610</th>\n      <td>M1.94 [01:04 UTC]?5km S of Volcano Hawaii. htt...</td>\n      <td>1</td>\n    </tr>\n    <tr>\n      <th>7611</th>\n      <td>Police investigating after an e-bike collided ...</td>\n      <td>1</td>\n    </tr>\n    <tr>\n      <th>7612</th>\n      <td>The Latest: More Homes Razed by Northern Calif...</td>\n      <td>1</td>\n    </tr>\n  </tbody>\n</table>\n<p>7613 rows × 2 columns</p>\n</div>"
     },
     "execution_count": 76,
     "metadata": {},
     "output_type": "execute_result"
    }
   ],
   "source": [
    "df = pd.read_csv(\"data/train.csv\")\n",
    "df = df[[\"text\", \"target\"]]\n",
    "print(df.shape)\n",
    "df"
   ]
  },
  {
   "cell_type": "markdown",
   "metadata": {
    "collapsed": false,
    "pycharm": {
     "name": "#%% md\n"
    }
   },
   "source": [
    "# 1. Cleaning & Pre-Processing\n",
    "\n",
    "Remove punctuation"
   ]
  },
  {
   "cell_type": "code",
   "execution_count": 77,
   "metadata": {
    "collapsed": false,
    "pycharm": {
     "name": "#%%\n"
    },
    "ExecuteTime": {
     "end_time": "2024-02-18T18:42:08.011427700Z",
     "start_time": "2024-02-18T18:42:07.953493700Z"
    }
   },
   "outputs": [
    {
     "data": {
      "text/plain": "                                                   text  target\n0     Our Deeds are the Reason of this earthquake Ma...       1\n1                 Forest fire near La Ronge Sask Canada       1\n2     All residents asked to shelter in place are be...       1\n3     13 000 people receive wildfires evacuation ord...       1\n4     Just got sent this photo from Ruby Alaska as s...       1\n...                                                 ...     ...\n7608  Two giant cranes holding a bridge collapse int...       1\n7609  aria_ahrary TheTawniest The out of control wil...       1\n7610  M1 94 01 04 UTC 5km S of Volcano Hawaii http t...       1\n7611  Police investigating after an e bike collided ...       1\n7612  The Latest More Homes Razed by Northern Califo...       1\n\n[7613 rows x 2 columns]",
      "text/html": "<div>\n<style scoped>\n    .dataframe tbody tr th:only-of-type {\n        vertical-align: middle;\n    }\n\n    .dataframe tbody tr th {\n        vertical-align: top;\n    }\n\n    .dataframe thead th {\n        text-align: right;\n    }\n</style>\n<table border=\"1\" class=\"dataframe\">\n  <thead>\n    <tr style=\"text-align: right;\">\n      <th></th>\n      <th>text</th>\n      <th>target</th>\n    </tr>\n  </thead>\n  <tbody>\n    <tr>\n      <th>0</th>\n      <td>Our Deeds are the Reason of this earthquake Ma...</td>\n      <td>1</td>\n    </tr>\n    <tr>\n      <th>1</th>\n      <td>Forest fire near La Ronge Sask Canada</td>\n      <td>1</td>\n    </tr>\n    <tr>\n      <th>2</th>\n      <td>All residents asked to shelter in place are be...</td>\n      <td>1</td>\n    </tr>\n    <tr>\n      <th>3</th>\n      <td>13 000 people receive wildfires evacuation ord...</td>\n      <td>1</td>\n    </tr>\n    <tr>\n      <th>4</th>\n      <td>Just got sent this photo from Ruby Alaska as s...</td>\n      <td>1</td>\n    </tr>\n    <tr>\n      <th>...</th>\n      <td>...</td>\n      <td>...</td>\n    </tr>\n    <tr>\n      <th>7608</th>\n      <td>Two giant cranes holding a bridge collapse int...</td>\n      <td>1</td>\n    </tr>\n    <tr>\n      <th>7609</th>\n      <td>aria_ahrary TheTawniest The out of control wil...</td>\n      <td>1</td>\n    </tr>\n    <tr>\n      <th>7610</th>\n      <td>M1 94 01 04 UTC 5km S of Volcano Hawaii http t...</td>\n      <td>1</td>\n    </tr>\n    <tr>\n      <th>7611</th>\n      <td>Police investigating after an e bike collided ...</td>\n      <td>1</td>\n    </tr>\n    <tr>\n      <th>7612</th>\n      <td>The Latest More Homes Razed by Northern Califo...</td>\n      <td>1</td>\n    </tr>\n  </tbody>\n</table>\n<p>7613 rows × 2 columns</p>\n</div>"
     },
     "execution_count": 77,
     "metadata": {},
     "output_type": "execute_result"
    }
   ],
   "source": [
    "def remove_punctuation(text):\n",
    "    tokenizer = nltk.RegexpTokenizer(r'\\w+')  # remove punctuation and other non-word characters\n",
    "    tokens = tokenizer.tokenize(text)\n",
    "    return ' '.join(tokens)\n",
    "\n",
    "df['text'] = df['text'].apply(remove_punctuation)\n",
    "df"
   ]
  },
  {
   "cell_type": "markdown",
   "metadata": {
    "collapsed": false,
    "pycharm": {
     "name": "#%% md\n"
    }
   },
   "source": [
    "Remove stopwords"
   ]
  },
  {
   "cell_type": "code",
   "execution_count": 78,
   "metadata": {
    "collapsed": false,
    "pycharm": {
     "name": "#%%\n"
    },
    "ExecuteTime": {
     "end_time": "2024-02-18T18:42:35.867701300Z",
     "start_time": "2024-02-18T18:42:09.190004900Z"
    }
   },
   "outputs": [
    {
     "data": {
      "text/plain": "                                                   text  target\n0          Deeds Reason earthquake May ALLAH Forgive us       1\n1                 Forest fire near La Ronge Sask Canada       1\n2     residents asked shelter place notified officer...       1\n3     13 000 people receive wildfires evacuation ord...       1\n4     got sent photo Ruby Alaska smoke wildfires pou...       1\n...                                                 ...     ...\n7608  Two giant cranes holding bridge collapse nearb...       1\n7609  aria_ahrary TheTawniest control wild fires Cal...       1\n7610  M1 94 01 04 UTC 5km Volcano Hawaii http co zDt...       1\n7611  Police investigating e bike collided car Littl...       1\n7612  Latest Homes Razed Northern California Wildfir...       1\n\n[7613 rows x 2 columns]",
      "text/html": "<div>\n<style scoped>\n    .dataframe tbody tr th:only-of-type {\n        vertical-align: middle;\n    }\n\n    .dataframe tbody tr th {\n        vertical-align: top;\n    }\n\n    .dataframe thead th {\n        text-align: right;\n    }\n</style>\n<table border=\"1\" class=\"dataframe\">\n  <thead>\n    <tr style=\"text-align: right;\">\n      <th></th>\n      <th>text</th>\n      <th>target</th>\n    </tr>\n  </thead>\n  <tbody>\n    <tr>\n      <th>0</th>\n      <td>Deeds Reason earthquake May ALLAH Forgive us</td>\n      <td>1</td>\n    </tr>\n    <tr>\n      <th>1</th>\n      <td>Forest fire near La Ronge Sask Canada</td>\n      <td>1</td>\n    </tr>\n    <tr>\n      <th>2</th>\n      <td>residents asked shelter place notified officer...</td>\n      <td>1</td>\n    </tr>\n    <tr>\n      <th>3</th>\n      <td>13 000 people receive wildfires evacuation ord...</td>\n      <td>1</td>\n    </tr>\n    <tr>\n      <th>4</th>\n      <td>got sent photo Ruby Alaska smoke wildfires pou...</td>\n      <td>1</td>\n    </tr>\n    <tr>\n      <th>...</th>\n      <td>...</td>\n      <td>...</td>\n    </tr>\n    <tr>\n      <th>7608</th>\n      <td>Two giant cranes holding bridge collapse nearb...</td>\n      <td>1</td>\n    </tr>\n    <tr>\n      <th>7609</th>\n      <td>aria_ahrary TheTawniest control wild fires Cal...</td>\n      <td>1</td>\n    </tr>\n    <tr>\n      <th>7610</th>\n      <td>M1 94 01 04 UTC 5km Volcano Hawaii http co zDt...</td>\n      <td>1</td>\n    </tr>\n    <tr>\n      <th>7611</th>\n      <td>Police investigating e bike collided car Littl...</td>\n      <td>1</td>\n    </tr>\n    <tr>\n      <th>7612</th>\n      <td>Latest Homes Razed Northern California Wildfir...</td>\n      <td>1</td>\n    </tr>\n  </tbody>\n</table>\n<p>7613 rows × 2 columns</p>\n</div>"
     },
     "execution_count": 78,
     "metadata": {},
     "output_type": "execute_result"
    }
   ],
   "source": [
    "def remove_stopwords(text):\n",
    "    # Tokenize the text\n",
    "    words = nltk.word_tokenize(text)\n",
    "\n",
    "    # Remove stopwords\n",
    "    words = [word for word in words if word.lower() not in stopwords.words('english')]\n",
    "\n",
    "    return ' '.join(words)\n",
    "\n",
    "df['text'] = df['text'].apply(remove_stopwords)\n",
    "df"
   ]
  },
  {
   "cell_type": "markdown",
   "metadata": {
    "collapsed": false,
    "pycharm": {
     "name": "#%% md\n"
    }
   },
   "source": []
  },
  {
   "cell_type": "markdown",
   "metadata": {
    "collapsed": false,
    "pycharm": {
     "name": "#%% md\n"
    }
   },
   "source": [
    "# Build a dictionary of words\n",
    "Our LSTM will read a sequence of words. Keep in mind that an LSTM can not handle words but, only numbers. We therefore need a good way to encode our words as numbers. To do so we need to know upfront all words in our corpus. This is what we build up here"
   ]
  },
  {
   "cell_type": "code",
   "execution_count": 79,
   "metadata": {
    "execution": {
     "iopub.execute_input": "2022-03-05T22:47:33.107916Z",
     "iopub.status.busy": "2022-03-05T22:47:33.107473Z",
     "iopub.status.idle": "2022-03-05T22:47:33.115962Z",
     "shell.execute_reply": "2022-03-05T22:47:33.115037Z",
     "shell.execute_reply.started": "2022-03-05T22:47:33.107881Z"
    },
    "pycharm": {
     "name": "#%%\n"
    },
    "trusted": true,
    "ExecuteTime": {
     "end_time": "2024-02-18T18:42:35.984909300Z",
     "start_time": "2024-02-18T18:42:35.883724100Z"
    }
   },
   "outputs": [
    {
     "data": {
      "text/plain": "'Number of different words in all tweets: 25490'"
     },
     "execution_count": 79,
     "metadata": {},
     "output_type": "execute_result"
    }
   ],
   "source": [
    "all_words_dictionary = defaultdict(int)  # each new key in the dictionary gets default value 0\n",
    "\n",
    "# we go through all tweets & words to build up the dictionary.\n",
    "# While doing so, we also count the word occurrences (we don't use the information right now - could be a potential improvement)\n",
    "\n",
    "for row in df['text']:\n",
    "    # Tokenize the text into words\n",
    "    words = row.split()\n",
    "\n",
    "    # update the word frequency in the dictionary\n",
    "    for word in words:\n",
    "        all_words_dictionary[word] += 1\n",
    "\n",
    "# convert the dictionary to a regular dictionary (so if you try to access a non-existing key, now, you'll get an error)\n",
    "all_words_dictionary = dict(all_words_dictionary)\n",
    "\n",
    "word_to_id = {}\n",
    "id_counter = 1  # we start from 1, 0 is reserved for unknown words\n",
    "for word in all_words_dictionary.keys():\n",
    "    word_to_id[word] = id_counter\n",
    "    id_counter += 1\n",
    "\n",
    "f\"Number of different words in all tweets: {len(all_words_dictionary)}\""
   ]
  },
  {
   "cell_type": "markdown",
   "metadata": {
    "collapsed": false,
    "pycharm": {
     "name": "#%% md\n"
    }
   },
   "source": [
    "# Max Sequence Length\n",
    "As tweets have different lengths, we also need to know what's the maximum length of a sequence. We then \"pad\" all other sequence to that length.\n",
    "A performance improvement would be to do so for each batch instead of the whole dataset."
   ]
  },
  {
   "cell_type": "code",
   "execution_count": 80,
   "metadata": {
    "execution": {
     "iopub.execute_input": "2022-03-05T22:47:35.755794Z",
     "iopub.status.busy": "2022-03-05T22:47:35.755546Z",
     "iopub.status.idle": "2022-03-05T22:47:35.822041Z",
     "shell.execute_reply": "2022-03-05T22:47:35.821079Z",
     "shell.execute_reply.started": "2022-03-05T22:47:35.755764Z"
    },
    "pycharm": {
     "name": "#%%\n"
    },
    "trusted": true,
    "ExecuteTime": {
     "end_time": "2024-02-18T18:42:35.984909300Z",
     "start_time": "2024-02-18T18:42:35.940910300Z"
    }
   },
   "outputs": [
    {
     "name": "stdout",
     "output_type": "stream",
     "text": [
      "Deeds Reason earthquake May ALLAH Forgive us\n",
      "residents asked shelter place notified officers evacuation shelter place orders expected\n",
      "RockyFire Update California Hwy 20 closed directions due Lake County fire CAfire wildfires\n",
      "Haha South Tampa getting flooded hah WAIT SECOND LIVE SOUTH TAMPA GON NA GON NA FVCK flooding\n",
      "Barbados Bridgetown JAMAICA ÛÒ Two cars set ablaze SANTA CRUZ ÛÓ Head St Elizabeth Police Superintende http co wDUEaj8Q4J\n",
      "Accident left lane blocked Manchester Rt 293 NB Eddy Rd stop go traffic back NH 3A delay 4 mins traffic\n",
      "9 Mile backup 77 South accident blocking Right 2 Lanes Exit 31 Langtree Rd consider NC 115 NC 150 NC 16 alternate\n",
      "Chevrolet Avalanche LT 2011 lt used 5 3 l v 8 16 v automatic 4 wd pickup truck premium b Û_ http co OBkY8Pc89H http co dXIRnTdSrd\n"
     ]
    },
    {
     "data": {
      "text/plain": "'Maximum sequence lenght: 27'"
     },
     "execution_count": 80,
     "metadata": {},
     "output_type": "execute_result"
    }
   ],
   "source": [
    "max_seq_len = -1\n",
    "\n",
    "for text in df['text']:\n",
    "    words = text.split()  # split the text into words\n",
    "    seq_len = len(words)  # calculate the sequence length (number of words)\n",
    "    if seq_len > max_seq_len:\n",
    "        print(text)\n",
    "        max_seq_len = seq_len\n",
    "\n",
    "f\"Maximum sequence lenght: {max_seq_len}\""
   ]
  },
  {
   "cell_type": "markdown",
   "metadata": {
    "collapsed": false,
    "pycharm": {
     "name": "#%% md\n"
    }
   },
   "source": [
    "# Split data stratified\n",
    "While Kaggle provides a train and test set, we only know the target label for the training set. We therefore split the training data in a stratified way."
   ]
  },
  {
   "cell_type": "code",
   "execution_count": 81,
   "metadata": {
    "execution": {
     "iopub.execute_input": "2022-03-05T23:07:00.606866Z",
     "iopub.status.busy": "2022-03-05T23:07:00.606512Z",
     "iopub.status.idle": "2022-03-05T23:07:00.619827Z",
     "shell.execute_reply": "2022-03-05T23:07:00.619058Z",
     "shell.execute_reply.started": "2022-03-05T23:07:00.606833Z"
    },
    "pycharm": {
     "name": "#%%\n"
    },
    "trusted": true,
    "ExecuteTime": {
     "end_time": "2024-02-18T18:42:35.984909300Z",
     "start_time": "2024-02-18T18:42:35.941937700Z"
    }
   },
   "outputs": [
    {
     "name": "stdout",
     "output_type": "stream",
     "text": [
      "5709\n",
      "Training set class distribution:\n",
      "target\n",
      "0    0.570328\n",
      "1    0.429672\n",
      "Name: proportion, dtype: float64\n",
      "\n",
      "Validation set class distribution:\n",
      "target\n",
      "0    0.570378\n",
      "1    0.429622\n",
      "Name: proportion, dtype: float64\n"
     ]
    }
   ],
   "source": [
    "# Split data into training and testing\n",
    "\n",
    "X = df['text']\n",
    "y = df['target']\n",
    "\n",
    "X_train, X_valid, y_train, y_valid = train_test_split(X, y, test_size=0.25, random_state=42, stratify=y)\n",
    "\n",
    "print(len(X_train))\n",
    "\n",
    "# Check the class distribution in the training and validation sets\n",
    "print(\"Training set class distribution:\")\n",
    "print(y_train.value_counts(normalize=True))\n",
    "\n",
    "print(\"\\nValidation set class distribution:\")\n",
    "print(y_valid.value_counts(normalize=True))"
   ]
  },
  {
   "cell_type": "markdown",
   "metadata": {
    "collapsed": false,
    "pycharm": {
     "name": "#%% md\n"
    }
   },
   "source": [
    "# Hyperparameter Configuration\n",
    "There are several important hyperparameters we can configure. For simplicity, we define them here altogether"
   ]
  },
  {
   "cell_type": "code",
   "execution_count": 82,
   "metadata": {
    "collapsed": false,
    "pycharm": {
     "name": "#%%\n"
    },
    "ExecuteTime": {
     "end_time": "2024-02-18T18:42:35.996909600Z",
     "start_time": "2024-02-18T18:42:35.949910900Z"
    }
   },
   "outputs": [],
   "source": [
    "BATCH_SIZE = 32  # specifies the number of samples that will be passed through the network at one time\n",
    "LEARNING_RATE = 1e-3\n",
    "DROPOUT = 0.5  # prevent overfitting\n",
    "INPUT_SIZE = len(all_words_dictionary) + 1  # dimension of input layer of the model --> each word is a unique input + one for unknown words\n",
    "HIDDEN_DIM = 128  # number of features in the hidden state.\n",
    "LSTM_LAYERS = 2  # number of LSTM layers stacked together\n",
    "EPOCHS = 10\n",
    "OUTPUT_SIZE = 2  # number of output classes"
   ]
  },
  {
   "cell_type": "markdown",
   "metadata": {
    "collapsed": false,
    "pycharm": {
     "name": "#%% md\n"
    }
   },
   "source": [
    "# 2. Dataset & Data Loader\n",
    "By using the Dataset/Dataloader classes, we allow pytorch to efficiently load, batch and cache data. While there are many predefined datasets (e.g., to load images from folders), we define here our own."
   ]
  },
  {
   "cell_type": "code",
   "execution_count": 83,
   "metadata": {
    "collapsed": false,
    "pycharm": {
     "name": "#%%\n"
    },
    "ExecuteTime": {
     "end_time": "2024-02-18T18:42:35.996909600Z",
     "start_time": "2024-02-18T18:42:35.978010200Z"
    }
   },
   "outputs": [],
   "source": [
    "class TweetDataset(Dataset):\n",
    "    def __init__(self, x, y, max_length, dictionary):\n",
    "        self.x = self.tokenizer(x, max_length, dictionary)\n",
    "        self.y = y.to_numpy()\n",
    "\n",
    "    def __len__(self):\n",
    "        return len(self.x)\n",
    "\n",
    "    def __getitem__(self, idx):\n",
    "        return self.x[idx], self.y[idx]\n",
    "\n",
    "    @staticmethod\n",
    "    def tokenizer(x_all, max_length, dictionary):\n",
    "        \"\"\"\n",
    "        Given a sequence of words, tokenize by space, use the prepared dictionary\n",
    "        to encode the word and pad the sequence to max_sequence_length\n",
    "        \"\"\"\n",
    "        sequences = []\n",
    "        for sentence in x_all:\n",
    "            # tokenize the sentence into words\n",
    "            _words = sentence.split()\n",
    "\n",
    "            # encode words using the prepared dictionary\n",
    "            encoded_sentence = [dictionary.get(_word, 0) for _word in _words]  # use 0 for unknown words\n",
    "\n",
    "            # pad the sequence to max_length if it's shorter\n",
    "            if len(encoded_sentence) < max_length:\n",
    "                pad_length = max_length - len(encoded_sentence)\n",
    "                encoded_sentence += [0] * pad_length  # pad with zeros\n",
    "\n",
    "            sequences.append(encoded_sentence)\n",
    "\n",
    "        return sequences\n"
   ]
  },
  {
   "cell_type": "code",
   "execution_count": 84,
   "outputs": [],
   "source": [
    "# build datasets for test and validation\n",
    "train = TweetDataset(X_train, y_train, max_seq_len, all_words_dictionary)\n",
    "validation = TweetDataset(X_valid, y_valid, max_seq_len, all_words_dictionary)\n",
    "\n",
    "# initialize dataloader for test and train\n",
    "loader_training = DataLoader(train, batch_size=BATCH_SIZE, shuffle=False)\n",
    "loader_validation = DataLoader(validation, batch_size=BATCH_SIZE, shuffle=False)"
   ],
   "metadata": {
    "collapsed": false,
    "ExecuteTime": {
     "end_time": "2024-02-18T18:42:36.102908700Z",
     "start_time": "2024-02-18T18:42:36.024009900Z"
    }
   }
  },
  {
   "cell_type": "markdown",
   "source": [
    "# 3. Model\n",
    "Now the fun part starts: we define the model. While the core of the model is an LSTM, we also need embeddings to encode the input and linear layers for the final classification"
   ],
   "metadata": {
    "collapsed": false
   }
  },
  {
   "cell_type": "code",
   "execution_count": 85,
   "outputs": [],
   "source": [
    "class TweetTextClassifier(nn.Module):\n",
    "    \"\"\"\n",
    "    LSTM Network definition\n",
    "    \"\"\"\n",
    "    def __init__(self):\n",
    "        super(TweetTextClassifier, self).__init__()\n",
    "        self.embedding = nn.Embedding(INPUT_SIZE, HIDDEN_DIM)\n",
    "        self.lstm = nn.LSTM(HIDDEN_DIM, HIDDEN_DIM, LSTM_LAYERS, dropout=DROPOUT, batch_first=True)\n",
    "        self.dropout = nn.Dropout(DROPOUT)\n",
    "        self.fc = nn.Linear(HIDDEN_DIM, 1)\n",
    "\n",
    "\n",
    "    def forward(self, x):\n",
    "        embedded = self.embedding(x)\n",
    "        lstm_out, (ht, ct) = self.lstm(embedded)\n",
    "        out = self.dropout(ht[-1])\n",
    "        out = self.fc(out)\n",
    "        return out"
   ],
   "metadata": {
    "collapsed": false,
    "ExecuteTime": {
     "end_time": "2024-02-18T18:42:36.117909300Z",
     "start_time": "2024-02-18T18:42:36.029910200Z"
    }
   }
  },
  {
   "cell_type": "code",
   "execution_count": 86,
   "outputs": [
    {
     "data": {
      "text/plain": "device(type='cuda')"
     },
     "execution_count": 86,
     "metadata": {},
     "output_type": "execute_result"
    }
   ],
   "source": [
    "# define the device on which we load the model\n",
    "device = torch.device('cuda' if torch.cuda.is_available() else 'cpu')\n",
    "device"
   ],
   "metadata": {
    "collapsed": false,
    "ExecuteTime": {
     "end_time": "2024-02-18T18:42:36.118910200Z",
     "start_time": "2024-02-18T18:42:36.043911200Z"
    }
   }
  },
  {
   "cell_type": "code",
   "execution_count": 87,
   "outputs": [
    {
     "data": {
      "text/plain": "TweetTextClassifier(\n  (embedding): Embedding(25491, 128)\n  (lstm): LSTM(128, 128, num_layers=2, batch_first=True, dropout=0.5)\n  (dropout): Dropout(p=0.5, inplace=False)\n  (fc): Linear(in_features=128, out_features=1, bias=True)\n)"
     },
     "execution_count": 87,
     "metadata": {},
     "output_type": "execute_result"
    }
   ],
   "source": [
    "# Model initialization\n",
    "model = TweetTextClassifier().to(device)\n",
    "\n",
    "# Optimizer initialization.\n",
    "optimizer = optim.Adam(model.parameters(), lr=LEARNING_RATE)\n",
    "\n",
    "model"
   ],
   "metadata": {
    "collapsed": false,
    "ExecuteTime": {
     "end_time": "2024-02-18T18:42:36.119909700Z",
     "start_time": "2024-02-18T18:42:36.059910800Z"
    }
   }
  },
  {
   "cell_type": "code",
   "execution_count": 88,
   "outputs": [],
   "source": [
    "def calculate_accuracy(y_true, y_pred_probs, threshold=0.5):\n",
    "    \"\"\"\n",
    "    Calculates the accuracy of predictions against the true labels.\n",
    "\n",
    "    Args:\n",
    "    - y_true (list or numpy array): The actual labels.\n",
    "    - y_pred_probs (list or numpy array): The predicted probabilities.\n",
    "    - threshold (float): The threshold for converting probabilities to binary predictions.\n",
    "\n",
    "    Returns:\n",
    "    - accuracy (float): The percentage of correct predictions.\n",
    "    \"\"\"\n",
    "    # Convert probabilities to binary predictions based on the threshold\n",
    "    y_pred = [1 if prob > threshold else 0 for prob in y_pred_probs]\n",
    "\n",
    "    # Ensure y_true is a numpy array to facilitate element-wise comparison\n",
    "    y_true = np.array(y_true)\n",
    "\n",
    "    # Calculate the number of correct predictions\n",
    "    correct_predictions = np.sum(y_true == y_pred)\n",
    "\n",
    "    # Calculate the accuracy\n",
    "    accuracy = correct_predictions / len(y_true)\n",
    "\n",
    "    return accuracy"
   ],
   "metadata": {
    "collapsed": false,
    "ExecuteTime": {
     "end_time": "2024-02-18T18:42:36.120910Z",
     "start_time": "2024-02-18T18:42:36.107910700Z"
    }
   }
  },
  {
   "cell_type": "code",
   "execution_count": 89,
   "outputs": [
    {
     "name": "stdout",
     "output_type": "stream",
     "text": [
      "epoch: 0, loss: 0.64533, train: 0.58995, test: 0.66544\n",
      "              precision    recall  f1-score   support\n",
      "\n",
      "           0       0.68      0.77      0.72      1086\n",
      "           1       0.63      0.52      0.57       818\n",
      "\n",
      "    accuracy                           0.67      1904\n",
      "   macro avg       0.66      0.65      0.65      1904\n",
      "weighted avg       0.66      0.67      0.66      1904\n",
      "\n",
      "epoch: 1, loss: 0.70564, train: 0.66229, test: 0.68645\n",
      "epoch: 2, loss: 0.72928, train: 0.69644, test: 0.70326\n",
      "epoch: 3, loss: 0.64778, train: 0.72377, test: 0.69538\n",
      "epoch: 4, loss: 0.68923, train: 0.74181, test: 0.67437\n",
      "epoch: 5, loss: 0.54665, train: 0.77404, test: 0.67384\n",
      "              precision    recall  f1-score   support\n",
      "\n",
      "           0       0.75      0.64      0.69      1086\n",
      "           1       0.60      0.72      0.66       818\n",
      "\n",
      "    accuracy                           0.67      1904\n",
      "   macro avg       0.68      0.68      0.67      1904\n",
      "weighted avg       0.69      0.67      0.68      1904\n",
      "\n",
      "epoch: 6, loss: 0.37136, train: 0.79226, test: 0.66859\n",
      "epoch: 7, loss: 0.36930, train: 0.81871, test: 0.66124\n",
      "epoch: 8, loss: 0.28842, train: 0.83430, test: 0.66754\n",
      "epoch: 9, loss: 0.35169, train: 0.84919, test: 0.67700\n",
      "              precision    recall  f1-score   support\n",
      "\n",
      "           0       0.75      0.66      0.70      1086\n",
      "           1       0.61      0.71      0.65       818\n",
      "\n",
      "    accuracy                           0.68      1904\n",
      "   macro avg       0.68      0.68      0.68      1904\n",
      "weighted avg       0.69      0.68      0.68      1904\n",
      "\n"
     ]
    }
   ],
   "source": [
    "# Training\n",
    "train_loss_list = []\n",
    "train_acc_list = []\n",
    "test_acc_list = []\n",
    "\n",
    "for epoch in range(EPOCHS):\n",
    "\n",
    "    # Training\n",
    "    model.train()\n",
    "    train_predictions = []\n",
    "    for x_batch, y_batch in loader_training:\n",
    "        x = torch.stack(x_batch).transpose(0, 1).to(device)\n",
    "        y = y_batch.to(device)\n",
    "\n",
    "        y_pred = model(x)\n",
    "\n",
    "        loss = F.binary_cross_entropy_with_logits(y_pred, y.unsqueeze(1).float(), reduction='mean')\n",
    "\n",
    "        optimizer.zero_grad()\n",
    "        loss.backward()\n",
    "        optimizer.step()\n",
    "\n",
    "        # Flatten y_pred and convert it to a list of 0s and 1s based on the threshold\n",
    "        y_pred_list = [1 if pred > 0.5 else 0 for pred in y_pred.squeeze().detach().cpu().numpy()]\n",
    "\n",
    "        # Save predictions for metrics calculation\n",
    "        train_predictions += y_pred_list\n",
    "\n",
    "    train_accuracy = calculate_accuracy(y_train, train_predictions)\n",
    "    train_acc_list.append(train_accuracy)\n",
    "\n",
    "    # Evaluation\n",
    "    with torch.no_grad():\n",
    "        model.eval()\n",
    "        validation_predictions = torch.Tensor().to(device)\n",
    "\n",
    "        for x_batch, y_batch in loader_validation:\n",
    "            x = torch.stack(x_batch).transpose(0, 1).to(device)\n",
    "            y = y_batch.to(device)\n",
    "\n",
    "            y_pred = model(x)\n",
    "\n",
    "            # Aggregate predictions\n",
    "            validation_predictions = torch.cat((validation_predictions, y_pred), 0)\n",
    "\n",
    "    binary_predictions = (validation_predictions.sigmoid() > 0.5).long().cpu().numpy()\n",
    "    test_accuracy = calculate_accuracy(y_valid, binary_predictions)\n",
    "    test_acc_list.append(test_accuracy)\n",
    "\n",
    "    train_loss_list.append(loss.item())\n",
    "\n",
    "    print(f\"epoch: {epoch}, loss: {loss.item():.5f}, train: {train_accuracy:.5f}, test: {test_accuracy:.5f}\")\n",
    "\n",
    "    if epoch == 0 or epoch == EPOCHS-1 or epoch == math.floor(EPOCHS/2):\n",
    "        print(classification_report(y_valid, [1 if x > 0.5 else 0 for x in binary_predictions], zero_division=0))"
   ],
   "metadata": {
    "collapsed": false,
    "ExecuteTime": {
     "end_time": "2024-02-18T18:42:43.568496700Z",
     "start_time": "2024-02-18T18:42:36.125910Z"
    }
   }
  },
  {
   "cell_type": "markdown",
   "source": [
    "## Print metrics"
   ],
   "metadata": {
    "collapsed": false
   }
  },
  {
   "cell_type": "code",
   "execution_count": 90,
   "outputs": [
    {
     "data": {
      "text/plain": "<Axes: >"
     },
     "execution_count": 90,
     "metadata": {},
     "output_type": "execute_result"
    },
    {
     "data": {
      "text/plain": "<Figure size 640x480 with 1 Axes>",
      "image/png": "[encoded data removed]"
     },
     "metadata": {},
     "output_type": "display_data"
    }
   ],
   "source": [
    "sns.lineplot(x=list(range(EPOCHS)),y=train_loss_list, label='train loss')"
   ],
   "metadata": {
    "collapsed": false,
    "ExecuteTime": {
     "end_time": "2024-02-18T18:42:48.057734700Z",
     "start_time": "2024-02-18T18:42:47.852725400Z"
    }
   }
  },
  {
   "cell_type": "code",
   "execution_count": 91,
   "outputs": [
    {
     "data": {
      "text/plain": "<Axes: >"
     },
     "execution_count": 91,
     "metadata": {},
     "output_type": "execute_result"
    },
    {
     "data": {
      "text/plain": "<Figure size 640x480 with 1 Axes>",
      "image/png": "[encoded data removed]"
     },
     "metadata": {},
     "output_type": "display_data"
    }
   ],
   "source": [
    "sns.lineplot(x=list(range(EPOCHS)),y=train_acc_list, label=\"train accuracy\")\n",
    "sns.lineplot(x=list(range(EPOCHS)),y=test_acc_list, label=\"test accuracy\")"
   ],
   "metadata": {
    "collapsed": false,
    "ExecuteTime": {
     "end_time": "2024-02-18T18:42:51.689528300Z",
     "start_time": "2024-02-18T18:42:51.449592Z"
    }
   }
  },
  {
   "cell_type": "code",
   "execution_count": null,
   "outputs": [],
   "source": [],
   "metadata": {
    "collapsed": false
   }
  }
 ],
 "metadata": {
  "kernelspec": {
   "display_name": "Python 3",
   "language": "python",
   "name": "python3"
  },
  "language_info": {
   "codemirror_mode": {
    "name": "ipython",
    "version": 3
   },
   "file_extension": ".py",
   "mimetype": "text/x-python",
   "name": "python",
   "nbconvert_exporter": "python",
   "pygments_lexer": "ipython3",
   "version": "3.6.4"
  }
 },
 "nbformat": 4,
 "nbformat_minor": 4
}

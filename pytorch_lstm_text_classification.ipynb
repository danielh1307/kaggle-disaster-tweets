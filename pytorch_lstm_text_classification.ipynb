{
 "cells": [
  {
   "cell_type": "markdown",
   "metadata": {
    "collapsed": false,
    "pycharm": {
     "name": "#%% md\n"
    }
   },
   "source": [
    "# NLP with disaster tweets - A case for LSTM\n",
    "In this notebook we try to predict which Tweets are about real disasters and which ones are not. We use the data from [https://www.kaggle.com/competitions/nlp-getting-started](https://www.kaggle.com/competitions/nlp-getting-started) and implement a simple solution based on LSTM"
   ]
  },
  {
   "cell_type": "markdown",
   "metadata": {
    "collapsed": false,
    "pycharm": {
     "name": "#%% md\n"
    }
   },
   "source": []
  },
  {
   "cell_type": "code",
   "execution_count": 14,
   "metadata": {
    "execution": {
     "iopub.execute_input": "2022-03-05T22:25:22.852701Z",
     "iopub.status.busy": "2022-03-05T22:25:22.852431Z",
     "iopub.status.idle": "2022-03-05T22:25:22.858568Z",
     "shell.execute_reply": "2022-03-05T22:25:22.857468Z",
     "shell.execute_reply.started": "2022-03-05T22:25:22.852671Z"
    },
    "pycharm": {
     "name": "#%%\n"
    },
    "trusted": true,
    "ExecuteTime": {
     "end_time": "2023-10-05T15:48:53.157582300Z",
     "start_time": "2023-10-05T15:48:53.102243Z"
    }
   },
   "outputs": [
    {
     "name": "stderr",
     "output_type": "stream",
     "text": [
      "[nltk_data] Downloading package stopwords to\n",
      "[nltk_data]     C:\\Users\\hammd\\AppData\\Roaming\\nltk_data...\n",
      "[nltk_data]   Package stopwords is already up-to-date!\n",
      "[nltk_data] Downloading package punkt to\n",
      "[nltk_data]     C:\\Users\\hammd\\AppData\\Roaming\\nltk_data...\n",
      "[nltk_data]   Package punkt is already up-to-date!\n"
     ]
    }
   ],
   "source": [
    "import math\n",
    "\n",
    "import torch\n",
    "import torch.nn as nn\n",
    "import torch.optim as optim\n",
    "import torch.nn.functional as F\n",
    "from sklearn.metrics import classification_report\n",
    "\n",
    "from torch.utils.data import Dataset\n",
    "from torch.utils.data import DataLoader\n",
    "\n",
    "import numpy as np\n",
    "import pandas as pd\n",
    "\n",
    "import string\n",
    "\n",
    "# For pre-processing, we use the simple nltk library. You might want to upgrade to SpaCy for better results\n",
    "import nltk\n",
    "nltk.download('stopwords')\n",
    "nltk.download('punkt')\n",
    "\n",
    "from nltk.corpus import stopwords\n",
    "\n",
    "from sklearn.model_selection import train_test_split\n",
    "import seaborn as sns\n",
    "\n",
    "from collections import defaultdict"
   ]
  },
  {
   "cell_type": "markdown",
   "metadata": {
    "collapsed": false,
    "pycharm": {
     "name": "#%% md\n"
    }
   },
   "source": [
    "# 1. Load Data\n",
    "Load data and reduce to the features we are interested in. Keep in mind that the target is a binary variable with 0 (no disaster) and 1 (disaster)\n"
   ]
  },
  {
   "cell_type": "code",
   "execution_count": 9,
   "metadata": {
    "collapsed": false,
    "pycharm": {
     "name": "#%%\n"
    },
    "ExecuteTime": {
     "end_time": "2023-10-05T15:42:29.439640100Z",
     "start_time": "2023-10-05T15:42:29.374574Z"
    }
   },
   "outputs": [
    {
     "name": "stdout",
     "output_type": "stream",
     "text": [
      "(7613, 2)\n"
     ]
    },
    {
     "data": {
      "text/plain": "                                                   text  target\n0     Our Deeds are the Reason of this #earthquake M...       1\n1                Forest fire near La Ronge Sask. Canada       1\n2     All residents asked to 'shelter in place' are ...       1\n3     13,000 people receive #wildfires evacuation or...       1\n4     Just got sent this photo from Ruby #Alaska as ...       1\n...                                                 ...     ...\n7608  Two giant cranes holding a bridge collapse int...       1\n7609  @aria_ahrary @TheTawniest The out of control w...       1\n7610  M1.94 [01:04 UTC]?5km S of Volcano Hawaii. htt...       1\n7611  Police investigating after an e-bike collided ...       1\n7612  The Latest: More Homes Razed by Northern Calif...       1\n\n[7613 rows x 2 columns]",
      "text/html": "<div>\n<style scoped>\n    .dataframe tbody tr th:only-of-type {\n        vertical-align: middle;\n    }\n\n    .dataframe tbody tr th {\n        vertical-align: top;\n    }\n\n    .dataframe thead th {\n        text-align: right;\n    }\n</style>\n<table border=\"1\" class=\"dataframe\">\n  <thead>\n    <tr style=\"text-align: right;\">\n      <th></th>\n      <th>text</th>\n      <th>target</th>\n    </tr>\n  </thead>\n  <tbody>\n    <tr>\n      <th>0</th>\n      <td>Our Deeds are the Reason of this #earthquake M...</td>\n      <td>1</td>\n    </tr>\n    <tr>\n      <th>1</th>\n      <td>Forest fire near La Ronge Sask. Canada</td>\n      <td>1</td>\n    </tr>\n    <tr>\n      <th>2</th>\n      <td>All residents asked to 'shelter in place' are ...</td>\n      <td>1</td>\n    </tr>\n    <tr>\n      <th>3</th>\n      <td>13,000 people receive #wildfires evacuation or...</td>\n      <td>1</td>\n    </tr>\n    <tr>\n      <th>4</th>\n      <td>Just got sent this photo from Ruby #Alaska as ...</td>\n      <td>1</td>\n    </tr>\n    <tr>\n      <th>...</th>\n      <td>...</td>\n      <td>...</td>\n    </tr>\n    <tr>\n      <th>7608</th>\n      <td>Two giant cranes holding a bridge collapse int...</td>\n      <td>1</td>\n    </tr>\n    <tr>\n      <th>7609</th>\n      <td>@aria_ahrary @TheTawniest The out of control w...</td>\n      <td>1</td>\n    </tr>\n    <tr>\n      <th>7610</th>\n      <td>M1.94 [01:04 UTC]?5km S of Volcano Hawaii. htt...</td>\n      <td>1</td>\n    </tr>\n    <tr>\n      <th>7611</th>\n      <td>Police investigating after an e-bike collided ...</td>\n      <td>1</td>\n    </tr>\n    <tr>\n      <th>7612</th>\n      <td>The Latest: More Homes Razed by Northern Calif...</td>\n      <td>1</td>\n    </tr>\n  </tbody>\n</table>\n<p>7613 rows × 2 columns</p>\n</div>"
     },
     "execution_count": 9,
     "metadata": {},
     "output_type": "execute_result"
    }
   ],
   "source": [
    "df = pd.read_csv(\"data/train.csv\")\n",
    "df = df[[\"text\", \"target\"]]\n",
    "print(df.shape)\n",
    "df"
   ]
  },
  {
   "cell_type": "markdown",
   "metadata": {
    "collapsed": false,
    "pycharm": {
     "name": "#%% md\n"
    }
   },
   "source": [
    "# 1. Cleaning & Pre-Processing\n",
    "\n",
    "Remove punctuation"
   ]
  },
  {
   "cell_type": "code",
   "execution_count": 10,
   "metadata": {
    "collapsed": false,
    "pycharm": {
     "name": "#%%\n"
    },
    "ExecuteTime": {
     "end_time": "2023-10-05T15:42:35.417953Z",
     "start_time": "2023-10-05T15:42:35.358088100Z"
    }
   },
   "outputs": [
    {
     "data": {
      "text/plain": "                                                   text  target\n0     Our Deeds are the Reason of this earthquake Ma...       1\n1                 Forest fire near La Ronge Sask Canada       1\n2     All residents asked to shelter in place are be...       1\n3     13 000 people receive wildfires evacuation ord...       1\n4     Just got sent this photo from Ruby Alaska as s...       1\n...                                                 ...     ...\n7608  Two giant cranes holding a bridge collapse int...       1\n7609  aria_ahrary TheTawniest The out of control wil...       1\n7610  M1 94 01 04 UTC 5km S of Volcano Hawaii http t...       1\n7611  Police investigating after an e bike collided ...       1\n7612  The Latest More Homes Razed by Northern Califo...       1\n\n[7613 rows x 2 columns]",
      "text/html": "<div>\n<style scoped>\n    .dataframe tbody tr th:only-of-type {\n        vertical-align: middle;\n    }\n\n    .dataframe tbody tr th {\n        vertical-align: top;\n    }\n\n    .dataframe thead th {\n        text-align: right;\n    }\n</style>\n<table border=\"1\" class=\"dataframe\">\n  <thead>\n    <tr style=\"text-align: right;\">\n      <th></th>\n      <th>text</th>\n      <th>target</th>\n    </tr>\n  </thead>\n  <tbody>\n    <tr>\n      <th>0</th>\n      <td>Our Deeds are the Reason of this earthquake Ma...</td>\n      <td>1</td>\n    </tr>\n    <tr>\n      <th>1</th>\n      <td>Forest fire near La Ronge Sask Canada</td>\n      <td>1</td>\n    </tr>\n    <tr>\n      <th>2</th>\n      <td>All residents asked to shelter in place are be...</td>\n      <td>1</td>\n    </tr>\n    <tr>\n      <th>3</th>\n      <td>13 000 people receive wildfires evacuation ord...</td>\n      <td>1</td>\n    </tr>\n    <tr>\n      <th>4</th>\n      <td>Just got sent this photo from Ruby Alaska as s...</td>\n      <td>1</td>\n    </tr>\n    <tr>\n      <th>...</th>\n      <td>...</td>\n      <td>...</td>\n    </tr>\n    <tr>\n      <th>7608</th>\n      <td>Two giant cranes holding a bridge collapse int...</td>\n      <td>1</td>\n    </tr>\n    <tr>\n      <th>7609</th>\n      <td>aria_ahrary TheTawniest The out of control wil...</td>\n      <td>1</td>\n    </tr>\n    <tr>\n      <th>7610</th>\n      <td>M1 94 01 04 UTC 5km S of Volcano Hawaii http t...</td>\n      <td>1</td>\n    </tr>\n    <tr>\n      <th>7611</th>\n      <td>Police investigating after an e bike collided ...</td>\n      <td>1</td>\n    </tr>\n    <tr>\n      <th>7612</th>\n      <td>The Latest More Homes Razed by Northern Califo...</td>\n      <td>1</td>\n    </tr>\n  </tbody>\n</table>\n<p>7613 rows × 2 columns</p>\n</div>"
     },
     "execution_count": 10,
     "metadata": {},
     "output_type": "execute_result"
    }
   ],
   "source": [
    "def remove_punctuation(text):\n",
    "    tokenizer = nltk.RegexpTokenizer(r'\\w+')  # remove punctuation and other non-word characters\n",
    "    tokens = tokenizer.tokenize(text)\n",
    "    return ' '.join(tokens)\n",
    "\n",
    "df['text'] = df['text'].apply(remove_punctuation)\n",
    "df"
   ]
  },
  {
   "cell_type": "markdown",
   "metadata": {
    "collapsed": false,
    "pycharm": {
     "name": "#%% md\n"
    }
   },
   "source": [
    "Remove stopwords"
   ]
  },
  {
   "cell_type": "code",
   "execution_count": 11,
   "metadata": {
    "collapsed": false,
    "pycharm": {
     "name": "#%%\n"
    },
    "ExecuteTime": {
     "end_time": "2023-10-05T15:44:00.321550800Z",
     "start_time": "2023-10-05T15:43:33.668880900Z"
    }
   },
   "outputs": [
    {
     "data": {
      "text/plain": "                                                   text  target\n0          Deeds Reason earthquake May ALLAH Forgive us       1\n1                 Forest fire near La Ronge Sask Canada       1\n2     residents asked shelter place notified officer...       1\n3     13 000 people receive wildfires evacuation ord...       1\n4     got sent photo Ruby Alaska smoke wildfires pou...       1\n...                                                 ...     ...\n7608  Two giant cranes holding bridge collapse nearb...       1\n7609  aria_ahrary TheTawniest control wild fires Cal...       1\n7610  M1 94 01 04 UTC 5km Volcano Hawaii http co zDt...       1\n7611  Police investigating e bike collided car Littl...       1\n7612  Latest Homes Razed Northern California Wildfir...       1\n\n[7613 rows x 2 columns]",
      "text/html": "<div>\n<style scoped>\n    .dataframe tbody tr th:only-of-type {\n        vertical-align: middle;\n    }\n\n    .dataframe tbody tr th {\n        vertical-align: top;\n    }\n\n    .dataframe thead th {\n        text-align: right;\n    }\n</style>\n<table border=\"1\" class=\"dataframe\">\n  <thead>\n    <tr style=\"text-align: right;\">\n      <th></th>\n      <th>text</th>\n      <th>target</th>\n    </tr>\n  </thead>\n  <tbody>\n    <tr>\n      <th>0</th>\n      <td>Deeds Reason earthquake May ALLAH Forgive us</td>\n      <td>1</td>\n    </tr>\n    <tr>\n      <th>1</th>\n      <td>Forest fire near La Ronge Sask Canada</td>\n      <td>1</td>\n    </tr>\n    <tr>\n      <th>2</th>\n      <td>residents asked shelter place notified officer...</td>\n      <td>1</td>\n    </tr>\n    <tr>\n      <th>3</th>\n      <td>13 000 people receive wildfires evacuation ord...</td>\n      <td>1</td>\n    </tr>\n    <tr>\n      <th>4</th>\n      <td>got sent photo Ruby Alaska smoke wildfires pou...</td>\n      <td>1</td>\n    </tr>\n    <tr>\n      <th>...</th>\n      <td>...</td>\n      <td>...</td>\n    </tr>\n    <tr>\n      <th>7608</th>\n      <td>Two giant cranes holding bridge collapse nearb...</td>\n      <td>1</td>\n    </tr>\n    <tr>\n      <th>7609</th>\n      <td>aria_ahrary TheTawniest control wild fires Cal...</td>\n      <td>1</td>\n    </tr>\n    <tr>\n      <th>7610</th>\n      <td>M1 94 01 04 UTC 5km Volcano Hawaii http co zDt...</td>\n      <td>1</td>\n    </tr>\n    <tr>\n      <th>7611</th>\n      <td>Police investigating e bike collided car Littl...</td>\n      <td>1</td>\n    </tr>\n    <tr>\n      <th>7612</th>\n      <td>Latest Homes Razed Northern California Wildfir...</td>\n      <td>1</td>\n    </tr>\n  </tbody>\n</table>\n<p>7613 rows × 2 columns</p>\n</div>"
     },
     "execution_count": 11,
     "metadata": {},
     "output_type": "execute_result"
    }
   ],
   "source": [
    "def remove_stopwords(text):\n",
    "    # Tokenize the text\n",
    "    words = nltk.word_tokenize(text)\n",
    "\n",
    "    # Remove stopwords\n",
    "    words = [word for word in words if word.lower() not in stopwords.words('english')]\n",
    "\n",
    "    return ' '.join(words)\n",
    "\n",
    "df['text'] = df['text'].apply(remove_stopwords)\n",
    "df"
   ]
  },
  {
   "cell_type": "markdown",
   "metadata": {
    "collapsed": false,
    "pycharm": {
     "name": "#%% md\n"
    }
   },
   "source": []
  },
  {
   "cell_type": "markdown",
   "metadata": {
    "collapsed": false,
    "pycharm": {
     "name": "#%% md\n"
    }
   },
   "source": [
    "# Build a dictionary of words\n",
    "Our LSTM will read a sequence of words. Keep in mind that an LSTM can not handle words but, only numbers. We therefore need a good way to encode our words as numbers. To do so we need to know upfront all words in our corpus. This is what we build up here"
   ]
  },
  {
   "cell_type": "code",
   "execution_count": 22,
   "metadata": {
    "execution": {
     "iopub.execute_input": "2022-03-05T22:47:33.107916Z",
     "iopub.status.busy": "2022-03-05T22:47:33.107473Z",
     "iopub.status.idle": "2022-03-05T22:47:33.115962Z",
     "shell.execute_reply": "2022-03-05T22:47:33.115037Z",
     "shell.execute_reply.started": "2022-03-05T22:47:33.107881Z"
    },
    "pycharm": {
     "name": "#%%\n"
    },
    "trusted": true,
    "ExecuteTime": {
     "end_time": "2023-10-05T16:05:33.696063Z",
     "start_time": "2023-10-05T16:05:33.644064200Z"
    }
   },
   "outputs": [
    {
     "data": {
      "text/plain": "'Number of different words in all tweets: 25490'"
     },
     "execution_count": 22,
     "metadata": {},
     "output_type": "execute_result"
    }
   ],
   "source": [
    "all_words_dictionary = defaultdict(int)  # each new key in the dictionary gets default value 0\n",
    "\n",
    "# we go through all tweets & words to build up the dictionary.\n",
    "# While doing so, we also count the word occurrences (we don't use the information right now - could be a potential improvement)\n",
    "\n",
    "for row in df['text']:\n",
    "    # Tokenize the text into words\n",
    "    words = row.split()\n",
    "\n",
    "    # update the word frequency in the dictionary\n",
    "    for word in words:\n",
    "        all_words_dictionary[word] += 1\n",
    "\n",
    "# convert the dictionary to a regular dictionary (so if you try to access a non-existing key, now, you'll get an error)\n",
    "all_words_dictionary = dict(all_words_dictionary)\n",
    "\n",
    "word_to_id = {}\n",
    "id_counter = 1  # we start from 1, 0 is reserved for unknown words\n",
    "for word in all_words_dictionary.keys():\n",
    "    word_to_id[word] = id_counter\n",
    "    id_counter += 1\n",
    "\n",
    "f\"Number of different words in all tweets: {len(all_words_dictionary)}\""
   ]
  },
  {
   "cell_type": "markdown",
   "metadata": {
    "collapsed": false,
    "pycharm": {
     "name": "#%% md\n"
    }
   },
   "source": [
    "# Max Sequence Length\n",
    "As tweets have different lengths, we also need to know what's the maximum length of a sequence. We then \"pad\" all other sequence to that length.\n",
    "A performance improvement would be to do so for each batch instead of the whole dataset."
   ]
  },
  {
   "cell_type": "code",
   "execution_count": 17,
   "metadata": {
    "execution": {
     "iopub.execute_input": "2022-03-05T22:47:35.755794Z",
     "iopub.status.busy": "2022-03-05T22:47:35.755546Z",
     "iopub.status.idle": "2022-03-05T22:47:35.822041Z",
     "shell.execute_reply": "2022-03-05T22:47:35.821079Z",
     "shell.execute_reply.started": "2022-03-05T22:47:35.755764Z"
    },
    "pycharm": {
     "name": "#%%\n"
    },
    "trusted": true,
    "ExecuteTime": {
     "end_time": "2023-10-05T15:52:31.084413300Z",
     "start_time": "2023-10-05T15:52:31.029885700Z"
    }
   },
   "outputs": [
    {
     "name": "stdout",
     "output_type": "stream",
     "text": [
      "Deeds Reason earthquake May ALLAH Forgive us\n",
      "residents asked shelter place notified officers evacuation shelter place orders expected\n",
      "RockyFire Update California Hwy 20 closed directions due Lake County fire CAfire wildfires\n",
      "Haha South Tampa getting flooded hah WAIT SECOND LIVE SOUTH TAMPA GON NA GON NA FVCK flooding\n",
      "Barbados Bridgetown JAMAICA ÛÒ Two cars set ablaze SANTA CRUZ ÛÓ Head St Elizabeth Police Superintende http co wDUEaj8Q4J\n",
      "Accident left lane blocked Manchester Rt 293 NB Eddy Rd stop go traffic back NH 3A delay 4 mins traffic\n",
      "9 Mile backup 77 South accident blocking Right 2 Lanes Exit 31 Langtree Rd consider NC 115 NC 150 NC 16 alternate\n",
      "Chevrolet Avalanche LT 2011 lt used 5 3 l v 8 16 v automatic 4 wd pickup truck premium b Û_ http co OBkY8Pc89H http co dXIRnTdSrd\n"
     ]
    },
    {
     "data": {
      "text/plain": "'Maximum sequence lenght: 27'"
     },
     "execution_count": 17,
     "metadata": {},
     "output_type": "execute_result"
    }
   ],
   "source": [
    "max_seq_len = -1\n",
    "\n",
    "for text in df['text']:\n",
    "    words = text.split()  # split the text into words\n",
    "    seq_len = len(words)  # calculate the sequence length (number of words)\n",
    "    if seq_len > max_seq_len:\n",
    "        print(text)\n",
    "        max_seq_len = seq_len\n",
    "\n",
    "f\"Maximum sequence lenght: {max_seq_len}\""
   ]
  },
  {
   "cell_type": "markdown",
   "metadata": {
    "collapsed": false,
    "pycharm": {
     "name": "#%% md\n"
    }
   },
   "source": [
    "# Split data stratified\n",
    "While Kaggle provides a train and test set, we only know the target label for the training set. We therefore split the training data in a stratified way."
   ]
  },
  {
   "cell_type": "code",
   "execution_count": 20,
   "metadata": {
    "execution": {
     "iopub.execute_input": "2022-03-05T23:07:00.606866Z",
     "iopub.status.busy": "2022-03-05T23:07:00.606512Z",
     "iopub.status.idle": "2022-03-05T23:07:00.619827Z",
     "shell.execute_reply": "2022-03-05T23:07:00.619058Z",
     "shell.execute_reply.started": "2022-03-05T23:07:00.606833Z"
    },
    "pycharm": {
     "name": "#%%\n"
    },
    "trusted": true,
    "ExecuteTime": {
     "end_time": "2023-10-05T15:55:41.861940500Z",
     "start_time": "2023-10-05T15:55:41.848940700Z"
    }
   },
   "outputs": [
    {
     "name": "stdout",
     "output_type": "stream",
     "text": [
      "Training set class distribution:\n",
      "target\n",
      "0    0.570328\n",
      "1    0.429672\n",
      "Name: proportion, dtype: float64\n",
      "\n",
      "Validation set class distribution:\n",
      "target\n",
      "0    0.570378\n",
      "1    0.429622\n",
      "Name: proportion, dtype: float64\n"
     ]
    }
   ],
   "source": [
    "# Split data into training and testing\n",
    "\n",
    "X = df['text']\n",
    "y = df['target']\n",
    "\n",
    "X_train, X_valid, y_train, y_valid = train_test_split(X, y, test_size=0.25, random_state=42, stratify=y)\n",
    "\n",
    "len(X_train)\n",
    "\n",
    "# Check the class distribution in the training and validation sets\n",
    "print(\"Training set class distribution:\")\n",
    "print(y_train.value_counts(normalize=True))\n",
    "\n",
    "print(\"\\nValidation set class distribution:\")\n",
    "print(y_valid.value_counts(normalize=True))"
   ]
  },
  {
   "cell_type": "markdown",
   "metadata": {
    "collapsed": false,
    "pycharm": {
     "name": "#%% md\n"
    }
   },
   "source": [
    "# Hyperparameter Configuration\n",
    "There are several important hyperparameters we can configure. For simplicity, we define them here altogether"
   ]
  },
  {
   "cell_type": "code",
   "execution_count": 21,
   "metadata": {
    "collapsed": false,
    "pycharm": {
     "name": "#%%\n"
    },
    "ExecuteTime": {
     "end_time": "2023-10-05T15:56:38.251557700Z",
     "start_time": "2023-10-05T15:56:38.240557300Z"
    }
   },
   "outputs": [],
   "source": [
    "BATCH_SIZE = 32\n",
    "LEARNING_RATE = 1e-3\n",
    "DROPOUT = 0.5\n",
    "INPUT_SIZE = len(all_words_dictionary) + 1\n",
    "HIDDEN_DIM = 128\n",
    "LSTM_LAYERS = 2\n",
    "EPOCHS = 10"
   ]
  },
  {
   "cell_type": "markdown",
   "metadata": {
    "collapsed": false,
    "pycharm": {
     "name": "#%% md\n"
    }
   },
   "source": [
    "# 2. Dataset & Data Loader\n",
    "By using the Dataset/Dataloader classes, we allow pytorch to efficiently load, batch and cache data. While there are many predefined datasets (e.g., to load images from folders), we define here our own."
   ]
  },
  {
   "cell_type": "code",
   "execution_count": 26,
   "metadata": {
    "collapsed": false,
    "pycharm": {
     "name": "#%%\n"
    },
    "ExecuteTime": {
     "end_time": "2023-10-05T16:08:16.185422100Z",
     "start_time": "2023-10-05T16:08:16.171391500Z"
    }
   },
   "outputs": [],
   "source": [
    "class TweetDataset(Dataset):\n",
    "    def __init__(self, x, y, max_length, dictionary):\n",
    "        self.x = self.tokenizer(x, max_length, dictionary)\n",
    "        self.y = y.to_numpy()\n",
    "\n",
    "    def __len__(self):\n",
    "        return len(self.x)\n",
    "\n",
    "    def __getitem__(self, idx):\n",
    "        return self.x[idx], self.y[idx]\n",
    "\n",
    "    @staticmethod\n",
    "    def tokenizer(x_all, max_length, dictionary):\n",
    "        \"\"\"\n",
    "        Given a sequence of words, tokenize by space, use the prepared dictionary\n",
    "        to encode the word and pad the sequence to max_sequence_length\n",
    "        \"\"\"\n",
    "        sequences = []\n",
    "        for sentence in x_all:\n",
    "            # tokenize the sentence into words\n",
    "            _words = sentence.split()\n",
    "\n",
    "            # encode words using the prepared dictionary\n",
    "            encoded_sentence = [dictionary.get(_word, 0) for _word in _words]  # use 0 for unknown words\n",
    "\n",
    "            # pad the sequence to max_length if it's shorter\n",
    "            if len(encoded_sentence) < max_length:\n",
    "                pad_length = max_length - len(encoded_sentence)\n",
    "                encoded_sentence += [0] * pad_length  # pad with zeros\n",
    "\n",
    "            sequences.append(encoded_sentence)\n",
    "\n"
   ]
  },
  {
   "cell_type": "code",
   "execution_count": 27,
   "metadata": {
    "collapsed": false,
    "pycharm": {
     "name": "#%%\n"
    },
    "ExecuteTime": {
     "end_time": "2023-10-05T16:08:16.791689600Z",
     "start_time": "2023-10-05T16:08:16.753655400Z"
    }
   },
   "outputs": [],
   "source": [
    "# build datasets for test and train\n",
    "train = TweetDataset(X_train, y_train, max_seq_len, all_words_dictionary)\n",
    "validation = TweetDataset(X_valid, y_valid, max_seq_len, all_words_dictionary)\n",
    "\n",
    "# initialize dataloader for test and train\n",
    "loader_training = DataLoader(train, batch_size=BATCH_SIZE, shuffle=False)\n",
    "loader_validation = DataLoader(validation, batch_size=BATCH_SIZE, shuffle=False)"
   ]
  },
  {
   "cell_type": "markdown",
   "metadata": {
    "collapsed": false,
    "pycharm": {
     "name": "#%% md\n"
    }
   },
   "source": [
    "# 3. Model\n",
    "Now the fun part starts: we define the model. While the core of the model is an LSTM, we also need embeddings to encode the input and linear layers for the final classification"
   ]
  },
  {
   "cell_type": "code",
   "execution_count": 80,
   "metadata": {
    "execution": {
     "iopub.execute_input": "2022-03-05T23:20:44.373041Z",
     "iopub.status.busy": "2022-03-05T23:20:44.372776Z",
     "iopub.status.idle": "2022-03-05T23:20:44.383695Z",
     "shell.execute_reply": "2022-03-05T23:20:44.382739Z",
     "shell.execute_reply.started": "2022-03-05T23:20:44.372994Z"
    },
    "pycharm": {
     "name": "#%%\n"
    },
    "trusted": true
   },
   "outputs": [],
   "source": [
    "class TweetTextClassifier(nn.ModuleList):\n",
    "    \"\"\"\n",
    "    LSTM Network definition\n",
    "    \"\"\"\n",
    "    def __init__(self):\n",
    "        super(TweetTextClassifier, self).__init__()\n",
    "\n",
    "        self.batch_size = BATCH_SIZE\n",
    "        self.hidden_dim = HIDDEN_DIM\n",
    "        self.LSTM_layers = LSTM_LAYERS\n",
    "        self.input_size = INPUT_SIZE\n",
    "\n",
    "        # TODO - Define the layers of the model\n",
    "    \n",
    "\n",
    "    def forward(self, x):\n",
    "        # TODO - Define one forward pass"
   ]
  },
  {
   "cell_type": "code",
   "execution_count": 81,
   "metadata": {
    "pycharm": {
     "name": "#%%\n"
    }
   },
   "outputs": [
    {
     "data": {
      "text/plain": [
       "device(type='cuda')"
      ]
     },
     "execution_count": 81,
     "metadata": {},
     "output_type": "execute_result"
    }
   ],
   "source": [
    "# define the device on which we load the model\n",
    "device = torch.device('cuda' if torch.cuda.is_available() else 'cpu')\n",
    "device"
   ]
  },
  {
   "cell_type": "code",
   "execution_count": 82,
   "metadata": {
    "execution": {
     "iopub.execute_input": "2022-03-05T23:20:44.868725Z",
     "iopub.status.busy": "2022-03-05T23:20:44.868057Z",
     "iopub.status.idle": "2022-03-05T23:20:44.910745Z",
     "shell.execute_reply": "2022-03-05T23:20:44.910034Z",
     "shell.execute_reply.started": "2022-03-05T23:20:44.868691Z"
    },
    "pycharm": {
     "name": "#%%\n"
    },
    "trusted": true
   },
   "outputs": [
    {
     "data": {
      "text/plain": [
       "TweetTextClassifier(\n",
       "  (dropout): Dropout(p=0.5, inplace=False)\n",
       "  (embedding): Embedding(22565, 128, padding_idx=0)\n",
       "  (lstm): LSTM(128, 128, num_layers=2, batch_first=True, dropout=0.5)\n",
       "  (fc1): Linear(in_features=128, out_features=64, bias=True)\n",
       "  (fc2): Linear(in_features=64, out_features=1, bias=True)\n",
       ")"
      ]
     },
     "execution_count": 82,
     "metadata": {},
     "output_type": "execute_result"
    }
   ],
   "source": [
    "# Model initialization\n",
    "model = TweetTextClassifier().to(device)\n",
    "\n",
    "# Optimizer initialization. RMSprop stand for Root Mean Squared Propagation and is an extension of gradient descent and AdaGrad\n",
    "optimizer = # TODO \n",
    "\n",
    "model"
   ]
  },
  {
   "cell_type": "code",
   "execution_count": 83,
   "metadata": {
    "execution": {
     "iopub.execute_input": "2022-03-05T23:20:48.324697Z",
     "iopub.status.busy": "2022-03-05T23:20:48.32445Z",
     "iopub.status.idle": "2022-03-05T23:20:48.33004Z",
     "shell.execute_reply": "2022-03-05T23:20:48.329171Z",
     "shell.execute_reply.started": "2022-03-05T23:20:48.32467Z"
    },
    "pycharm": {
     "name": "#%%\n"
    },
    "trusted": true
   },
   "outputs": [],
   "source": [
    "def calculate_accuray(ground_truth, predictions):\n",
    "    # TODO - Define the layers of the model"
   ]
  },
  {
   "cell_type": "code",
   "execution_count": 84,
   "metadata": {
    "collapsed": false,
    "pycharm": {
     "name": "#%%\n"
    }
   },
   "outputs": [
    {
     "name": "stdout",
     "output_type": "stream",
     "text": [
      "epoch: 0, loss: 0.69063, train: 0.60124, test: 0.42951\n",
      "              precision    recall  f1-score   support\n",
      "\n",
      "           0       0.00      0.00      0.00      1303\n",
      "           1       0.43      1.00      0.60       981\n",
      "\n",
      "    accuracy                           0.43      2284\n",
      "   macro avg       0.21      0.50      0.30      2284\n",
      "weighted avg       0.18      0.43      0.26      2284\n",
      "\n",
      "epoch: 1, loss: 0.67090, train: 0.74423, test: 0.68257\n",
      "epoch: 2, loss: 0.62427, train: 0.82229, test: 0.71935\n",
      "epoch: 3, loss: 0.27908, train: 0.87840, test: 0.74256\n",
      "epoch: 4, loss: 0.22336, train: 0.91068, test: 0.74168\n",
      "epoch: 5, loss: 0.08414, train: 0.93282, test: 0.75044\n",
      "              precision    recall  f1-score   support\n",
      "\n",
      "           0       0.75      0.84      0.79      1303\n",
      "           1       0.75      0.63      0.68       981\n",
      "\n",
      "    accuracy                           0.75      2284\n",
      "   macro avg       0.75      0.74      0.74      2284\n",
      "weighted avg       0.75      0.75      0.75      2284\n",
      "\n",
      "epoch: 6, loss: 0.05488, train: 0.95177, test: 0.73380\n",
      "epoch: 7, loss: 0.11557, train: 0.95853, test: 0.73949\n",
      "epoch: 8, loss: 0.05083, train: 0.96528, test: 0.74037\n",
      "epoch: 9, loss: 0.03069, train: 0.96979, test: 0.72110\n",
      "              precision    recall  f1-score   support\n",
      "\n",
      "           0       0.78      0.71      0.74      1303\n",
      "           1       0.66      0.74      0.69       981\n",
      "\n",
      "    accuracy                           0.72      2284\n",
      "   macro avg       0.72      0.72      0.72      2284\n",
      "weighted avg       0.73      0.72      0.72      2284\n",
      "\n"
     ]
    }
   ],
   "source": [
    "# Training\n",
    "train_loss_list = []\n",
    "train_acc_list = []\n",
    "test_acc_list = []\n",
    "\n",
    "for epoch in range(EPOCHS):\n",
    "\n",
    "    # Evaluation\n",
    "    with torch.no_grad():\n",
    "        model.eval()\n",
    "        test_predictions = []\n",
    "\n",
    "        for x_batch, y_batch in loader_test:\n",
    "            x = x_batch.type(torch.LongTensor).to(device)\n",
    "            y = y_batch.type(torch.FloatTensor).to(device)\n",
    "\n",
    "            y_pred = model(x)\n",
    "            # Save predictions for metrics calculation\n",
    "            test_predictions += list(y_pred.tolist())\n",
    "\n",
    "\n",
    "    model.train()\n",
    "    train_predictions = []\n",
    "    for x_batch, y_batch in loader_training:\n",
    "\n",
    "        x = x_batch.type(torch.LongTensor).to(device)\n",
    "        y = y_batch.type(torch.FloatTensor).to(device)\n",
    "\n",
    "        y_pred = model(x)\n",
    "\n",
    "        loss = F.binary_cross_entropy(y_pred, y)\n",
    "\n",
    "        optimizer.zero_grad()\n",
    "        loss.backward()\n",
    "        optimizer.step()\n",
    "\n",
    "        # Save predictions for metrics calculation\n",
    "        train_predictions += y_pred.tolist()\n",
    "\n",
    "    train_accuracy = calculate_accuray(y_train, train_predictions)\n",
    "    train_acc_list.append(train_accuracy)\n",
    "\n",
    "    test_accuracy = calculate_accuray(y_test, test_predictions)\n",
    "    test_acc_list.append(test_accuracy)\n",
    "\n",
    "    train_loss_list.append(loss.item())\n",
    "\n",
    "    print(f\"epoch: {epoch}, loss: {loss.item():.5f}, train: {train_accuracy:.5f}, test: {test_accuracy:.5f}\")\n",
    "\n",
    "    if epoch == 0 or epoch == EPOCHS-1 or epoch == math.floor(EPOCHS/2):\n",
    "        print(classification_report(y_test, [1 if x > 0.5 else 0 for x in test_predictions], zero_division=0))"
   ]
  },
  {
   "cell_type": "markdown",
   "metadata": {
    "collapsed": false,
    "pycharm": {
     "name": "#%% md\n"
    }
   },
   "source": [
    "## Print metrics"
   ]
  },
  {
   "cell_type": "code",
   "execution_count": 85,
   "metadata": {
    "collapsed": false,
    "pycharm": {
     "name": "#%%\n"
    }
   },
   "outputs": [
    {
     "data": {
      "text/plain": [
       "<AxesSubplot: >"
      ]
     },
     "execution_count": 85,
     "metadata": {},
     "output_type": "execute_result"
    },
    {
     "data": {
      "image/png": "[encoded data removed]",
      "text/plain": [
       "<Figure size 640x480 with 1 Axes>"
      ]
     },
     "metadata": {},
     "output_type": "display_data"
    }
   ],
   "source": [
    "sns.lineplot(x=list(range(EPOCHS)),y=train_loss_list, label='train loss')"
   ]
  },
  {
   "cell_type": "code",
   "execution_count": 86,
   "metadata": {
    "collapsed": false,
    "pycharm": {
     "name": "#%%\n"
    }
   },
   "outputs": [
    {
     "data": {
      "text/plain": [
       "<AxesSubplot: >"
      ]
     },
     "execution_count": 86,
     "metadata": {},
     "output_type": "execute_result"
    },
    {
     "data": {
      "image/png": "[encoded data removed]",
      "text/plain": [
       "<Figure size 640x480 with 1 Axes>"
      ]
     },
     "metadata": {},
     "output_type": "display_data"
    }
   ],
   "source": [
    "sns.lineplot(x=list(range(EPOCHS)),y=train_acc_list, label=\"train accuracy\")\n",
    "sns.lineplot(x=list(range(EPOCHS)),y=test_acc_list, label=\"test accuracy\")"
   ]
  },
  {
   "cell_type": "code",
   "execution_count": 86,
   "metadata": {
    "collapsed": false,
    "pycharm": {
     "name": "#%%\n"
    }
   },
   "outputs": [],
   "source": []
  },
  {
   "cell_type": "code",
   "execution_count": null,
   "metadata": {
    "collapsed": false,
    "pycharm": {
     "name": "#%%\n"
    }
   },
   "outputs": [],
   "source": []
  }
 ],
 "metadata": {
  "kernelspec": {
   "display_name": "Python 3",
   "language": "python",
   "name": "python3"
  },
  "language_info": {
   "codemirror_mode": {
    "name": "ipython",
    "version": 3
   },
   "file_extension": ".py",
   "mimetype": "text/x-python",
   "name": "python",
   "nbconvert_exporter": "python",
   "pygments_lexer": "ipython3",
   "version": "3.6.4"
  }
 },
 "nbformat": 4,
 "nbformat_minor": 4
}
